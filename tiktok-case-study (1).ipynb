{
 "cells": [
  {
   "cell_type": "code",
   "execution_count": 1,
   "id": "f1b111c8",
   "metadata": {
    "_cell_guid": "b1076dfc-b9ad-4769-8c92-a6c4dae69d19",
    "_uuid": "8f2839f25d086af736a60e9eeb907d3b93b6e0e5",
    "execution": {
     "iopub.execute_input": "2025-03-02T04:35:39.224880Z",
     "iopub.status.busy": "2025-03-02T04:35:39.224539Z",
     "iopub.status.idle": "2025-03-02T04:35:40.184534Z",
     "shell.execute_reply": "2025-03-02T04:35:40.183198Z"
    },
    "papermill": {
     "duration": 0.97244,
     "end_time": "2025-03-02T04:35:40.186568",
     "exception": false,
     "start_time": "2025-03-02T04:35:39.214128",
     "status": "completed"
    },
    "tags": []
   },
   "outputs": [
    {
     "name": "stdout",
     "output_type": "stream",
     "text": [
      "/kaggle/input/tiktok-github-luminati-io-data/README.md\n",
      "/kaggle/input/tiktok-github-luminati-io-data/tiktok-profiles.csv\n"
     ]
    }
   ],
   "source": [
    "# This Python 3 environment comes with many helpful analytics libraries installed\n",
    "# It is defined by the kaggle/python Docker image: https://github.com/kaggle/docker-python\n",
    "# For example, here's several helpful packages to load\n",
    "\n",
    "import numpy as np # linear algebra\n",
    "import pandas as pd # data processing, CSV file I/O (e.g. pd.read_csv)\n",
    "\n",
    "# Input data files are available in the read-only \"../input/\" directory\n",
    "# For example, running this (by clicking run or pressing Shift+Enter) will list all files under the input directory\n",
    "\n",
    "import os\n",
    "for dirname, _, filenames in os.walk('/kaggle/input'):\n",
    "    for filename in filenames:\n",
    "        print(os.path.join(dirname, filename))\n",
    "\n",
    "# You can write up to 20GB to the current directory (/kaggle/working/) that gets preserved as output when you create a version using \"Save & Run All\" \n",
    "# You can also write temporary files to /kaggle/temp/, but they won't be saved outside of the current session"
   ]
  },
  {
   "cell_type": "code",
   "execution_count": 2,
   "id": "35cef735",
   "metadata": {
    "execution": {
     "iopub.execute_input": "2025-03-02T04:35:40.205408Z",
     "iopub.status.busy": "2025-03-02T04:35:40.204869Z",
     "iopub.status.idle": "2025-03-02T04:35:40.312205Z",
     "shell.execute_reply": "2025-03-02T04:35:40.311053Z"
    },
    "papermill": {
     "duration": 0.118753,
     "end_time": "2025-03-02T04:35:40.314225",
     "exception": false,
     "start_time": "2025-03-02T04:35:40.195472",
     "status": "completed"
    },
    "tags": []
   },
   "outputs": [],
   "source": [
    "df = pd.read_csv('/kaggle/input/tiktok-github-luminati-io-data/tiktok-profiles.csv')"
   ]
  },
  {
   "cell_type": "code",
   "execution_count": 3,
   "id": "428bad61",
   "metadata": {
    "execution": {
     "iopub.execute_input": "2025-03-02T04:35:40.332739Z",
     "iopub.status.busy": "2025-03-02T04:35:40.332262Z",
     "iopub.status.idle": "2025-03-02T04:35:40.337607Z",
     "shell.execute_reply": "2025-03-02T04:35:40.335772Z"
    },
    "papermill": {
     "duration": 0.017509,
     "end_time": "2025-03-02T04:35:40.340454",
     "exception": false,
     "start_time": "2025-03-02T04:35:40.322945",
     "status": "completed"
    },
    "tags": []
   },
   "outputs": [],
   "source": [
    "import warnings\n",
    "warnings.filterwarnings(\"ignore\")"
   ]
  },
  {
   "cell_type": "code",
   "execution_count": 4,
   "id": "48dd2826",
   "metadata": {
    "execution": {
     "iopub.execute_input": "2025-03-02T04:35:40.359697Z",
     "iopub.status.busy": "2025-03-02T04:35:40.359271Z",
     "iopub.status.idle": "2025-03-02T04:35:40.404354Z",
     "shell.execute_reply": "2025-03-02T04:35:40.403132Z"
    },
    "papermill": {
     "duration": 0.05677,
     "end_time": "2025-03-02T04:35:40.406232",
     "exception": false,
     "start_time": "2025-03-02T04:35:40.349462",
     "status": "completed"
    },
    "tags": []
   },
   "outputs": [
    {
     "data": {
      "text/html": [
       "<div>\n",
       "<style scoped>\n",
       "    .dataframe tbody tr th:only-of-type {\n",
       "        vertical-align: middle;\n",
       "    }\n",
       "\n",
       "    .dataframe tbody tr th {\n",
       "        vertical-align: top;\n",
       "    }\n",
       "\n",
       "    .dataframe thead th {\n",
       "        text-align: right;\n",
       "    }\n",
       "</style>\n",
       "<table border=\"1\" class=\"dataframe\">\n",
       "  <thead>\n",
       "    <tr style=\"text-align: right;\">\n",
       "      <th></th>\n",
       "      <th>account_id</th>\n",
       "      <th>nickname</th>\n",
       "      <th>biography</th>\n",
       "      <th>awg_engagement_rate</th>\n",
       "      <th>comment_engagement_rate</th>\n",
       "      <th>like_engagement_rate</th>\n",
       "      <th>bio_link</th>\n",
       "      <th>predicted_lang</th>\n",
       "      <th>is_verified</th>\n",
       "      <th>followers</th>\n",
       "      <th>...</th>\n",
       "      <th>comment_setting</th>\n",
       "      <th>duet_setting</th>\n",
       "      <th>stitch_setting</th>\n",
       "      <th>is_ad_virtual</th>\n",
       "      <th>room_id</th>\n",
       "      <th>is_under_age_18</th>\n",
       "      <th>region</th>\n",
       "      <th>top_videos</th>\n",
       "      <th>signature</th>\n",
       "      <th>discovery_input</th>\n",
       "    </tr>\n",
       "  </thead>\n",
       "  <tbody>\n",
       "    <tr>\n",
       "      <th>0</th>\n",
       "      <td>jzt███_ar███</td>\n",
       "      <td>jztang_art</td>\n",
       "      <td>Tattoo artist in LA\\nIG @jztang_art_modoink\\nA...</td>\n",
       "      <td>1.619883</td>\n",
       "      <td>0.011696</td>\n",
       "      <td>1.608187</td>\n",
       "      <td>NaN</td>\n",
       "      <td>en</td>\n",
       "      <td>False</td>\n",
       "      <td>19</td>\n",
       "      <td>...</td>\n",
       "      <td>NaN</td>\n",
       "      <td>NaN</td>\n",
       "      <td>NaN</td>\n",
       "      <td>False</td>\n",
       "      <td>NaN</td>\n",
       "      <td>NaN</td>\n",
       "      <td>US</td>\n",
       "      <td>[\"https://www.tiktok.com/@jztang_art/video/693...</td>\n",
       "      <td>Tattoo artist in LA\\nIG @jztang_art_modoink\\nA...</td>\n",
       "      <td>NaN</td>\n",
       "    </tr>\n",
       "    <tr>\n",
       "      <th>1</th>\n",
       "      <td>amw███qna███</td>\n",
       "      <td>🦋Emanuelle Maia🦋</td>\n",
       "      <td>Aquele em que ela ama futebol e Harry Potter 🥰...</td>\n",
       "      <td>0.071843</td>\n",
       "      <td>0.005806</td>\n",
       "      <td>0.066038</td>\n",
       "      <td>NaN</td>\n",
       "      <td>en</td>\n",
       "      <td>False</td>\n",
       "      <td>106</td>\n",
       "      <td>...</td>\n",
       "      <td>NaN</td>\n",
       "      <td>NaN</td>\n",
       "      <td>NaN</td>\n",
       "      <td>False</td>\n",
       "      <td>NaN</td>\n",
       "      <td>NaN</td>\n",
       "      <td>BR</td>\n",
       "      <td>[\"https://www.tiktok.com/@amwbaiqnajaj/video/6...</td>\n",
       "      <td>Aquele em que ela ama futebol e Harry Potter 🥰...</td>\n",
       "      <td>NaN</td>\n",
       "    </tr>\n",
       "  </tbody>\n",
       "</table>\n",
       "<p>2 rows × 36 columns</p>\n",
       "</div>"
      ],
      "text/plain": [
       "     account_id          nickname  \\\n",
       "0  jzt███_ar███        jztang_art   \n",
       "1  amw███qna███  🦋Emanuelle Maia🦋   \n",
       "\n",
       "                                           biography  awg_engagement_rate  \\\n",
       "0  Tattoo artist in LA\\nIG @jztang_art_modoink\\nA...             1.619883   \n",
       "1  Aquele em que ela ama futebol e Harry Potter 🥰...             0.071843   \n",
       "\n",
       "   comment_engagement_rate  like_engagement_rate bio_link predicted_lang  \\\n",
       "0                 0.011696              1.608187      NaN             en   \n",
       "1                 0.005806              0.066038      NaN             en   \n",
       "\n",
       "   is_verified  followers  ...  comment_setting  duet_setting  stitch_setting  \\\n",
       "0        False         19  ...              NaN           NaN             NaN   \n",
       "1        False        106  ...              NaN           NaN             NaN   \n",
       "\n",
       "   is_ad_virtual  room_id is_under_age_18 region  \\\n",
       "0          False      NaN             NaN     US   \n",
       "1          False      NaN             NaN     BR   \n",
       "\n",
       "                                          top_videos  \\\n",
       "0  [\"https://www.tiktok.com/@jztang_art/video/693...   \n",
       "1  [\"https://www.tiktok.com/@amwbaiqnajaj/video/6...   \n",
       "\n",
       "                                           signature discovery_input  \n",
       "0  Tattoo artist in LA\\nIG @jztang_art_modoink\\nA...             NaN  \n",
       "1  Aquele em que ela ama futebol e Harry Potter 🥰...             NaN  \n",
       "\n",
       "[2 rows x 36 columns]"
      ]
     },
     "execution_count": 4,
     "metadata": {},
     "output_type": "execute_result"
    }
   ],
   "source": [
    "df.head(2)"
   ]
  },
  {
   "cell_type": "markdown",
   "id": "5b840897",
   "metadata": {
    "execution": {
     "iopub.execute_input": "2025-03-02T00:27:43.242156Z",
     "iopub.status.busy": "2025-03-02T00:27:43.241739Z",
     "iopub.status.idle": "2025-03-02T00:27:43.256751Z",
     "shell.execute_reply": "2025-03-02T00:27:43.255485Z",
     "shell.execute_reply.started": "2025-03-02T00:27:43.242123Z"
    },
    "papermill": {
     "duration": 0.008457,
     "end_time": "2025-03-02T04:35:40.423885",
     "exception": false,
     "start_time": "2025-03-02T04:35:40.415428",
     "status": "completed"
    },
    "tags": []
   },
   "source": [
    "1. account_id doesn't give any useful information. Nevertheless most of it is hidden. So dropping that column will be better. \n",
    "2. nickname doesn't have any null values\n",
    "3. biography doesn't give us much info ... random, just like bios are\n",
    "4. awg_engagement_rate: The average engagement rate for the user's content\n",
    "5. comment_engagement_rate: The engagement rate specifically related to comments on the user's content\n",
    "6. like_engagement_rate: The engagement rate specifically related to likes on the user's content\n",
    "these could be null\n",
    "7. bio link: not informative\n",
    "8. predicted_lang: lang of the user's content\n",
    "9. is_verified: T/F\n",
    "10. followers, following, likes videos_count: numerical\n",
    "11. create time : drop\n",
    "12. id: A unique identifier associated with the TikTok user\n",
    "13. url: The URL or link to the TikTok user's profile -- not informative same for profile_pic_url\n",
    "14. is_ad_virtual: Informative\n",
    "15. region\n",
    "\n",
    "We can drop a lot of columns "
   ]
  },
  {
   "cell_type": "code",
   "execution_count": 5,
   "id": "64cbac4d",
   "metadata": {
    "execution": {
     "iopub.execute_input": "2025-03-02T04:35:40.443239Z",
     "iopub.status.busy": "2025-03-02T04:35:40.442917Z",
     "iopub.status.idle": "2025-03-02T04:35:40.449029Z",
     "shell.execute_reply": "2025-03-02T04:35:40.447924Z"
    },
    "papermill": {
     "duration": 0.018083,
     "end_time": "2025-03-02T04:35:40.450768",
     "exception": false,
     "start_time": "2025-03-02T04:35:40.432685",
     "status": "completed"
    },
    "tags": []
   },
   "outputs": [
    {
     "data": {
      "text/plain": [
       "Index(['account_id', 'nickname', 'biography', 'awg_engagement_rate',\n",
       "       'comment_engagement_rate', 'like_engagement_rate', 'bio_link',\n",
       "       'predicted_lang', 'is_verified', 'followers', 'following', 'likes',\n",
       "       'videos_count', 'create_time', 'id', 'url', 'profile_pic_url',\n",
       "       'like_count', 'digg_count', 'is_private', 'profile_pic_url_hd',\n",
       "       'secu_id', 'short_id', 'ftc', 'relation', 'open_favorite',\n",
       "       'comment_setting', 'duet_setting', 'stitch_setting', 'is_ad_virtual',\n",
       "       'room_id', 'is_under_age_18', 'region', 'top_videos', 'signature',\n",
       "       'discovery_input'],\n",
       "      dtype='object')"
      ]
     },
     "execution_count": 5,
     "metadata": {},
     "output_type": "execute_result"
    }
   ],
   "source": [
    "df.columns"
   ]
  },
  {
   "cell_type": "markdown",
   "id": "84284cac",
   "metadata": {
    "papermill": {
     "duration": 0.008348,
     "end_time": "2025-03-02T04:35:40.468849",
     "exception": false,
     "start_time": "2025-03-02T04:35:40.460501",
     "status": "completed"
    },
    "tags": []
   },
   "source": [
    "What is diggCount on TikTok?\n",
    "\n",
    "Correlations between number of video plays ('playCount'), number of comments ('commentCount'), number of likes ('diggCount'), and number of shares ('shareCount'). Each variable is crucial for defining the amount of video engagement on TikTok."
   ]
  },
  {
   "cell_type": "code",
   "execution_count": 6,
   "id": "0d04fcac",
   "metadata": {
    "execution": {
     "iopub.execute_input": "2025-03-02T04:35:40.487588Z",
     "iopub.status.busy": "2025-03-02T04:35:40.487182Z",
     "iopub.status.idle": "2025-03-02T04:35:40.504542Z",
     "shell.execute_reply": "2025-03-02T04:35:40.503425Z"
    },
    "papermill": {
     "duration": 0.028564,
     "end_time": "2025-03-02T04:35:40.506166",
     "exception": false,
     "start_time": "2025-03-02T04:35:40.477602",
     "status": "completed"
    },
    "tags": []
   },
   "outputs": [
    {
     "data": {
      "text/html": [
       "<div>\n",
       "<style scoped>\n",
       "    .dataframe tbody tr th:only-of-type {\n",
       "        vertical-align: middle;\n",
       "    }\n",
       "\n",
       "    .dataframe tbody tr th {\n",
       "        vertical-align: top;\n",
       "    }\n",
       "\n",
       "    .dataframe thead th {\n",
       "        text-align: right;\n",
       "    }\n",
       "</style>\n",
       "<table border=\"1\" class=\"dataframe\">\n",
       "  <thead>\n",
       "    <tr style=\"text-align: right;\">\n",
       "      <th></th>\n",
       "      <th>id</th>\n",
       "      <th>awg_engagement_rate</th>\n",
       "      <th>comment_engagement_rate</th>\n",
       "      <th>like_engagement_rate</th>\n",
       "      <th>predicted_lang</th>\n",
       "      <th>is_verified</th>\n",
       "      <th>followers</th>\n",
       "      <th>following</th>\n",
       "      <th>likes</th>\n",
       "      <th>videos_count</th>\n",
       "      <th>digg_count</th>\n",
       "      <th>is_private</th>\n",
       "      <th>is_ad_virtual</th>\n",
       "      <th>region</th>\n",
       "      <th>top_videos</th>\n",
       "    </tr>\n",
       "  </thead>\n",
       "  <tbody>\n",
       "    <tr>\n",
       "      <th>0</th>\n",
       "      <td>6744469562807747589</td>\n",
       "      <td>1.619883</td>\n",
       "      <td>0.011696</td>\n",
       "      <td>1.608187</td>\n",
       "      <td>en</td>\n",
       "      <td>False</td>\n",
       "      <td>19</td>\n",
       "      <td>1</td>\n",
       "      <td>275</td>\n",
       "      <td>9</td>\n",
       "      <td>0</td>\n",
       "      <td>NaN</td>\n",
       "      <td>False</td>\n",
       "      <td>US</td>\n",
       "      <td>[\"https://www.tiktok.com/@jztang_art/video/693...</td>\n",
       "    </tr>\n",
       "    <tr>\n",
       "      <th>1</th>\n",
       "      <td>6904794783643223046</td>\n",
       "      <td>0.071843</td>\n",
       "      <td>0.005806</td>\n",
       "      <td>0.066038</td>\n",
       "      <td>en</td>\n",
       "      <td>False</td>\n",
       "      <td>106</td>\n",
       "      <td>378</td>\n",
       "      <td>1286</td>\n",
       "      <td>13</td>\n",
       "      <td>0</td>\n",
       "      <td>NaN</td>\n",
       "      <td>False</td>\n",
       "      <td>BR</td>\n",
       "      <td>[\"https://www.tiktok.com/@amwbaiqnajaj/video/6...</td>\n",
       "    </tr>\n",
       "    <tr>\n",
       "      <th>2</th>\n",
       "      <td>6566918905926762501</td>\n",
       "      <td>0.003516</td>\n",
       "      <td>0.000034</td>\n",
       "      <td>0.003482</td>\n",
       "      <td>en</td>\n",
       "      <td>False</td>\n",
       "      <td>5826</td>\n",
       "      <td>5</td>\n",
       "      <td>793000</td>\n",
       "      <td>1537</td>\n",
       "      <td>0</td>\n",
       "      <td>NaN</td>\n",
       "      <td>False</td>\n",
       "      <td>SA</td>\n",
       "      <td>[\"https://www.tiktok.com/@k.mssqwziiii/video/7...</td>\n",
       "    </tr>\n",
       "    <tr>\n",
       "      <th>3</th>\n",
       "      <td>6637060722835046405</td>\n",
       "      <td>0.001500</td>\n",
       "      <td>0.000036</td>\n",
       "      <td>0.001464</td>\n",
       "      <td>en</td>\n",
       "      <td>False</td>\n",
       "      <td>44600</td>\n",
       "      <td>97</td>\n",
       "      <td>224700</td>\n",
       "      <td>2091</td>\n",
       "      <td>0</td>\n",
       "      <td>NaN</td>\n",
       "      <td>False</td>\n",
       "      <td>BD</td>\n",
       "      <td>[\"https://www.tiktok.com/@towwnimaaa_/video/72...</td>\n",
       "    </tr>\n",
       "    <tr>\n",
       "      <th>4</th>\n",
       "      <td>6804509823943214085</td>\n",
       "      <td>6.154908</td>\n",
       "      <td>0.042945</td>\n",
       "      <td>6.111963</td>\n",
       "      <td>en</td>\n",
       "      <td>False</td>\n",
       "      <td>163</td>\n",
       "      <td>53</td>\n",
       "      <td>7552</td>\n",
       "      <td>12</td>\n",
       "      <td>0</td>\n",
       "      <td>NaN</td>\n",
       "      <td>False</td>\n",
       "      <td>RU</td>\n",
       "      <td>[\"https://www.tiktok.com/@_uiui_r_/video/70719...</td>\n",
       "    </tr>\n",
       "  </tbody>\n",
       "</table>\n",
       "</div>"
      ],
      "text/plain": [
       "                    id  awg_engagement_rate  comment_engagement_rate  \\\n",
       "0  6744469562807747589             1.619883                 0.011696   \n",
       "1  6904794783643223046             0.071843                 0.005806   \n",
       "2  6566918905926762501             0.003516                 0.000034   \n",
       "3  6637060722835046405             0.001500                 0.000036   \n",
       "4  6804509823943214085             6.154908                 0.042945   \n",
       "\n",
       "   like_engagement_rate predicted_lang  is_verified  followers  following  \\\n",
       "0              1.608187             en        False         19          1   \n",
       "1              0.066038             en        False        106        378   \n",
       "2              0.003482             en        False       5826          5   \n",
       "3              0.001464             en        False      44600         97   \n",
       "4              6.111963             en        False        163         53   \n",
       "\n",
       "    likes  videos_count  digg_count is_private  is_ad_virtual region  \\\n",
       "0     275             9           0        NaN          False     US   \n",
       "1    1286            13           0        NaN          False     BR   \n",
       "2  793000          1537           0        NaN          False     SA   \n",
       "3  224700          2091           0        NaN          False     BD   \n",
       "4    7552            12           0        NaN          False     RU   \n",
       "\n",
       "                                          top_videos  \n",
       "0  [\"https://www.tiktok.com/@jztang_art/video/693...  \n",
       "1  [\"https://www.tiktok.com/@amwbaiqnajaj/video/6...  \n",
       "2  [\"https://www.tiktok.com/@k.mssqwziiii/video/7...  \n",
       "3  [\"https://www.tiktok.com/@towwnimaaa_/video/72...  \n",
       "4  [\"https://www.tiktok.com/@_uiui_r_/video/70719...  "
      ]
     },
     "execution_count": 6,
     "metadata": {},
     "output_type": "execute_result"
    }
   ],
   "source": [
    "# Drop unnecessary columns\n",
    "data = df[['id', 'awg_engagement_rate', 'comment_engagement_rate', 'like_engagement_rate', \n",
    "                  'predicted_lang', 'is_verified', 'followers', 'following', 'likes', \n",
    "                  'videos_count', 'digg_count', 'is_private', 'is_ad_virtual', 'region', 'top_videos']].copy()\n",
    "\n",
    "data.head()"
   ]
  },
  {
   "cell_type": "code",
   "execution_count": 7,
   "id": "f9c15304",
   "metadata": {
    "execution": {
     "iopub.execute_input": "2025-03-02T04:35:40.525935Z",
     "iopub.status.busy": "2025-03-02T04:35:40.525614Z",
     "iopub.status.idle": "2025-03-02T04:35:40.533171Z",
     "shell.execute_reply": "2025-03-02T04:35:40.532135Z"
    },
    "papermill": {
     "duration": 0.019269,
     "end_time": "2025-03-02T04:35:40.534840",
     "exception": false,
     "start_time": "2025-03-02T04:35:40.515571",
     "status": "completed"
    },
    "tags": []
   },
   "outputs": [
    {
     "data": {
      "text/plain": [
       "id                           0\n",
       "awg_engagement_rate          0\n",
       "comment_engagement_rate      0\n",
       "like_engagement_rate         0\n",
       "predicted_lang               0\n",
       "is_verified                  0\n",
       "followers                    0\n",
       "following                    0\n",
       "likes                        0\n",
       "videos_count                 0\n",
       "digg_count                   0\n",
       "is_private                 717\n",
       "is_ad_virtual                0\n",
       "region                       3\n",
       "top_videos                   0\n",
       "dtype: int64"
      ]
     },
     "execution_count": 7,
     "metadata": {},
     "output_type": "execute_result"
    }
   ],
   "source": [
    "# check missing values \n",
    "data.isnull().sum()"
   ]
  },
  {
   "cell_type": "code",
   "execution_count": 8,
   "id": "6664d765",
   "metadata": {
    "execution": {
     "iopub.execute_input": "2025-03-02T04:35:40.555156Z",
     "iopub.status.busy": "2025-03-02T04:35:40.554790Z",
     "iopub.status.idle": "2025-03-02T04:35:40.566361Z",
     "shell.execute_reply": "2025-03-02T04:35:40.565291Z"
    },
    "papermill": {
     "duration": 0.023706,
     "end_time": "2025-03-02T04:35:40.568195",
     "exception": false,
     "start_time": "2025-03-02T04:35:40.544489",
     "status": "completed"
    },
    "tags": []
   },
   "outputs": [
    {
     "data": {
      "text/plain": [
       "is_private\n",
       "False    283\n",
       "Name: count, dtype: int64"
      ]
     },
     "execution_count": 8,
     "metadata": {},
     "output_type": "execute_result"
    }
   ],
   "source": [
    "data.is_private.value_counts()"
   ]
  },
  {
   "cell_type": "code",
   "execution_count": 9,
   "id": "b91cde94",
   "metadata": {
    "execution": {
     "iopub.execute_input": "2025-03-02T04:35:40.588189Z",
     "iopub.status.busy": "2025-03-02T04:35:40.587831Z",
     "iopub.status.idle": "2025-03-02T04:35:40.597758Z",
     "shell.execute_reply": "2025-03-02T04:35:40.596694Z"
    },
    "papermill": {
     "duration": 0.021744,
     "end_time": "2025-03-02T04:35:40.599487",
     "exception": false,
     "start_time": "2025-03-02T04:35:40.577743",
     "status": "completed"
    },
    "tags": []
   },
   "outputs": [
    {
     "data": {
      "text/plain": [
       "id                         0\n",
       "awg_engagement_rate        0\n",
       "comment_engagement_rate    0\n",
       "like_engagement_rate       0\n",
       "predicted_lang             0\n",
       "is_verified                0\n",
       "followers                  0\n",
       "following                  0\n",
       "likes                      0\n",
       "videos_count               0\n",
       "digg_count                 0\n",
       "is_private                 0\n",
       "is_ad_virtual              0\n",
       "region                     3\n",
       "top_videos                 0\n",
       "dtype: int64"
      ]
     },
     "execution_count": 9,
     "metadata": {},
     "output_type": "execute_result"
    }
   ],
   "source": [
    "data['is_private'].fillna(True, inplace = True)\n",
    "data.isnull().sum()"
   ]
  },
  {
   "cell_type": "code",
   "execution_count": 10,
   "id": "bc07fb59",
   "metadata": {
    "execution": {
     "iopub.execute_input": "2025-03-02T04:35:40.620577Z",
     "iopub.status.busy": "2025-03-02T04:35:40.620126Z",
     "iopub.status.idle": "2025-03-02T04:35:40.628383Z",
     "shell.execute_reply": "2025-03-02T04:35:40.627319Z"
    },
    "papermill": {
     "duration": 0.020871,
     "end_time": "2025-03-02T04:35:40.630070",
     "exception": false,
     "start_time": "2025-03-02T04:35:40.609199",
     "status": "completed"
    },
    "tags": []
   },
   "outputs": [
    {
     "data": {
      "text/plain": [
       "region\n",
       "US    159\n",
       "ID     58\n",
       "IQ     56\n",
       "SA     54\n",
       "VN     38\n",
       "     ... \n",
       "IE      1\n",
       "LK      1\n",
       "SN      1\n",
       "GH      1\n",
       "PA      1\n",
       "Name: count, Length: 104, dtype: int64"
      ]
     },
     "execution_count": 10,
     "metadata": {},
     "output_type": "execute_result"
    }
   ],
   "source": [
    "data.region.value_counts()"
   ]
  },
  {
   "cell_type": "code",
   "execution_count": 11,
   "id": "02f2bc7f",
   "metadata": {
    "execution": {
     "iopub.execute_input": "2025-03-02T04:35:40.650380Z",
     "iopub.status.busy": "2025-03-02T04:35:40.649992Z",
     "iopub.status.idle": "2025-03-02T04:35:40.660762Z",
     "shell.execute_reply": "2025-03-02T04:35:40.659749Z"
    },
    "papermill": {
     "duration": 0.022743,
     "end_time": "2025-03-02T04:35:40.662503",
     "exception": false,
     "start_time": "2025-03-02T04:35:40.639760",
     "status": "completed"
    },
    "tags": []
   },
   "outputs": [
    {
     "data": {
      "text/plain": [
       "id                         0\n",
       "awg_engagement_rate        0\n",
       "comment_engagement_rate    0\n",
       "like_engagement_rate       0\n",
       "predicted_lang             0\n",
       "is_verified                0\n",
       "followers                  0\n",
       "following                  0\n",
       "likes                      0\n",
       "videos_count               0\n",
       "digg_count                 0\n",
       "is_private                 0\n",
       "is_ad_virtual              0\n",
       "region                     0\n",
       "top_videos                 0\n",
       "dtype: int64"
      ]
     },
     "execution_count": 11,
     "metadata": {},
     "output_type": "execute_result"
    }
   ],
   "source": [
    "data['region'].fillna(data['region'].mode()[0], inplace = True)\n",
    "data.isnull().sum()"
   ]
  },
  {
   "cell_type": "code",
   "execution_count": 12,
   "id": "84de9779",
   "metadata": {
    "execution": {
     "iopub.execute_input": "2025-03-02T04:35:40.683284Z",
     "iopub.status.busy": "2025-03-02T04:35:40.682898Z",
     "iopub.status.idle": "2025-03-02T04:35:40.716443Z",
     "shell.execute_reply": "2025-03-02T04:35:40.715346Z"
    },
    "papermill": {
     "duration": 0.04606,
     "end_time": "2025-03-02T04:35:40.718361",
     "exception": false,
     "start_time": "2025-03-02T04:35:40.672301",
     "status": "completed"
    },
    "tags": []
   },
   "outputs": [
    {
     "data": {
      "text/html": [
       "<div>\n",
       "<style scoped>\n",
       "    .dataframe tbody tr th:only-of-type {\n",
       "        vertical-align: middle;\n",
       "    }\n",
       "\n",
       "    .dataframe tbody tr th {\n",
       "        vertical-align: top;\n",
       "    }\n",
       "\n",
       "    .dataframe thead th {\n",
       "        text-align: right;\n",
       "    }\n",
       "</style>\n",
       "<table border=\"1\" class=\"dataframe\">\n",
       "  <thead>\n",
       "    <tr style=\"text-align: right;\">\n",
       "      <th></th>\n",
       "      <th>id</th>\n",
       "      <th>awg_engagement_rate</th>\n",
       "      <th>comment_engagement_rate</th>\n",
       "      <th>like_engagement_rate</th>\n",
       "      <th>followers</th>\n",
       "      <th>following</th>\n",
       "      <th>likes</th>\n",
       "      <th>videos_count</th>\n",
       "      <th>digg_count</th>\n",
       "    </tr>\n",
       "  </thead>\n",
       "  <tbody>\n",
       "    <tr>\n",
       "      <th>count</th>\n",
       "      <td>1.000000e+03</td>\n",
       "      <td>1000.000000</td>\n",
       "      <td>1000.000000</td>\n",
       "      <td>1000.000000</td>\n",
       "      <td>1000.000000</td>\n",
       "      <td>1000.000000</td>\n",
       "      <td>1.000000e+03</td>\n",
       "      <td>1000.000000</td>\n",
       "      <td>1000.000000</td>\n",
       "    </tr>\n",
       "    <tr>\n",
       "      <th>mean</th>\n",
       "      <td>6.598018e+18</td>\n",
       "      <td>0.600419</td>\n",
       "      <td>0.036881</td>\n",
       "      <td>0.563538</td>\n",
       "      <td>14260.810000</td>\n",
       "      <td>1180.816000</td>\n",
       "      <td>2.546741e+05</td>\n",
       "      <td>144.653000</td>\n",
       "      <td>1763.996000</td>\n",
       "    </tr>\n",
       "    <tr>\n",
       "      <th>std</th>\n",
       "      <td>1.331342e+18</td>\n",
       "      <td>3.042836</td>\n",
       "      <td>0.222862</td>\n",
       "      <td>2.969609</td>\n",
       "      <td>60002.045531</td>\n",
       "      <td>2001.699544</td>\n",
       "      <td>1.567335e+06</td>\n",
       "      <td>314.819898</td>\n",
       "      <td>8746.779728</td>\n",
       "    </tr>\n",
       "    <tr>\n",
       "      <th>min</th>\n",
       "      <td>7.026413e+06</td>\n",
       "      <td>0.000039</td>\n",
       "      <td>0.000000</td>\n",
       "      <td>0.000037</td>\n",
       "      <td>1.000000</td>\n",
       "      <td>0.000000</td>\n",
       "      <td>2.000000e+00</td>\n",
       "      <td>1.000000</td>\n",
       "      <td>0.000000</td>\n",
       "    </tr>\n",
       "    <tr>\n",
       "      <th>25%</th>\n",
       "      <td>6.749596e+18</td>\n",
       "      <td>0.023019</td>\n",
       "      <td>0.000823</td>\n",
       "      <td>0.021006</td>\n",
       "      <td>167.000000</td>\n",
       "      <td>84.750000</td>\n",
       "      <td>4.402500e+02</td>\n",
       "      <td>9.000000</td>\n",
       "      <td>0.000000</td>\n",
       "    </tr>\n",
       "    <tr>\n",
       "      <th>50%</th>\n",
       "      <td>6.871683e+18</td>\n",
       "      <td>0.085272</td>\n",
       "      <td>0.003159</td>\n",
       "      <td>0.080300</td>\n",
       "      <td>871.500000</td>\n",
       "      <td>338.000000</td>\n",
       "      <td>3.520000e+03</td>\n",
       "      <td>38.000000</td>\n",
       "      <td>0.000000</td>\n",
       "    </tr>\n",
       "    <tr>\n",
       "      <th>75%</th>\n",
       "      <td>6.986654e+18</td>\n",
       "      <td>0.287537</td>\n",
       "      <td>0.012839</td>\n",
       "      <td>0.264512</td>\n",
       "      <td>3240.000000</td>\n",
       "      <td>1243.500000</td>\n",
       "      <td>2.912500e+04</td>\n",
       "      <td>139.000000</td>\n",
       "      <td>0.000000</td>\n",
       "    </tr>\n",
       "    <tr>\n",
       "      <th>max</th>\n",
       "      <td>7.257614e+18</td>\n",
       "      <td>80.576923</td>\n",
       "      <td>4.000000</td>\n",
       "      <td>80.034615</td>\n",
       "      <td>812300.000000</td>\n",
       "      <td>10000.000000</td>\n",
       "      <td>2.840000e+07</td>\n",
       "      <td>3923.000000</td>\n",
       "      <td>101400.000000</td>\n",
       "    </tr>\n",
       "  </tbody>\n",
       "</table>\n",
       "</div>"
      ],
      "text/plain": [
       "                 id  awg_engagement_rate  comment_engagement_rate  \\\n",
       "count  1.000000e+03          1000.000000              1000.000000   \n",
       "mean   6.598018e+18             0.600419                 0.036881   \n",
       "std    1.331342e+18             3.042836                 0.222862   \n",
       "min    7.026413e+06             0.000039                 0.000000   \n",
       "25%    6.749596e+18             0.023019                 0.000823   \n",
       "50%    6.871683e+18             0.085272                 0.003159   \n",
       "75%    6.986654e+18             0.287537                 0.012839   \n",
       "max    7.257614e+18            80.576923                 4.000000   \n",
       "\n",
       "       like_engagement_rate      followers     following         likes  \\\n",
       "count           1000.000000    1000.000000   1000.000000  1.000000e+03   \n",
       "mean               0.563538   14260.810000   1180.816000  2.546741e+05   \n",
       "std                2.969609   60002.045531   2001.699544  1.567335e+06   \n",
       "min                0.000037       1.000000      0.000000  2.000000e+00   \n",
       "25%                0.021006     167.000000     84.750000  4.402500e+02   \n",
       "50%                0.080300     871.500000    338.000000  3.520000e+03   \n",
       "75%                0.264512    3240.000000   1243.500000  2.912500e+04   \n",
       "max               80.034615  812300.000000  10000.000000  2.840000e+07   \n",
       "\n",
       "       videos_count     digg_count  \n",
       "count   1000.000000    1000.000000  \n",
       "mean     144.653000    1763.996000  \n",
       "std      314.819898    8746.779728  \n",
       "min        1.000000       0.000000  \n",
       "25%        9.000000       0.000000  \n",
       "50%       38.000000       0.000000  \n",
       "75%      139.000000       0.000000  \n",
       "max     3923.000000  101400.000000  "
      ]
     },
     "execution_count": 12,
     "metadata": {},
     "output_type": "execute_result"
    }
   ],
   "source": [
    "data.describe()"
   ]
  },
  {
   "cell_type": "code",
   "execution_count": 13,
   "id": "0a89c5ef",
   "metadata": {
    "execution": {
     "iopub.execute_input": "2025-03-02T04:35:40.739910Z",
     "iopub.status.busy": "2025-03-02T04:35:40.739407Z",
     "iopub.status.idle": "2025-03-02T04:35:42.126914Z",
     "shell.execute_reply": "2025-03-02T04:35:42.125779Z"
    },
    "papermill": {
     "duration": 1.400209,
     "end_time": "2025-03-02T04:35:42.128684",
     "exception": false,
     "start_time": "2025-03-02T04:35:40.728475",
     "status": "completed"
    },
    "tags": []
   },
   "outputs": [
    {
     "data": {
      "text/html": [
       "<div>\n",
       "<style scoped>\n",
       "    .dataframe tbody tr th:only-of-type {\n",
       "        vertical-align: middle;\n",
       "    }\n",
       "\n",
       "    .dataframe tbody tr th {\n",
       "        vertical-align: top;\n",
       "    }\n",
       "\n",
       "    .dataframe thead th {\n",
       "        text-align: right;\n",
       "    }\n",
       "</style>\n",
       "<table border=\"1\" class=\"dataframe\">\n",
       "  <thead>\n",
       "    <tr style=\"text-align: right;\">\n",
       "      <th></th>\n",
       "      <th>awg_engagement_rate</th>\n",
       "      <th>comment_engagement_rate</th>\n",
       "      <th>like_engagement_rate</th>\n",
       "    </tr>\n",
       "  </thead>\n",
       "  <tbody>\n",
       "    <tr>\n",
       "      <th>count</th>\n",
       "      <td>1.000000e+03</td>\n",
       "      <td>1.000000e+03</td>\n",
       "      <td>1.000000e+03</td>\n",
       "    </tr>\n",
       "    <tr>\n",
       "      <th>mean</th>\n",
       "      <td>-1.598721e-17</td>\n",
       "      <td>3.552714e-17</td>\n",
       "      <td>-1.598721e-17</td>\n",
       "    </tr>\n",
       "    <tr>\n",
       "      <th>std</th>\n",
       "      <td>1.000500e+00</td>\n",
       "      <td>1.000500e+00</td>\n",
       "      <td>1.000500e+00</td>\n",
       "    </tr>\n",
       "    <tr>\n",
       "      <th>min</th>\n",
       "      <td>-1.974082e-01</td>\n",
       "      <td>-1.655691e-01</td>\n",
       "      <td>-1.898510e-01</td>\n",
       "    </tr>\n",
       "    <tr>\n",
       "      <th>25%</th>\n",
       "      <td>-1.898521e-01</td>\n",
       "      <td>-1.618728e-01</td>\n",
       "      <td>-1.827864e-01</td>\n",
       "    </tr>\n",
       "    <tr>\n",
       "      <th>50%</th>\n",
       "      <td>-1.693830e-01</td>\n",
       "      <td>-1.513885e-01</td>\n",
       "      <td>-1.628093e-01</td>\n",
       "    </tr>\n",
       "    <tr>\n",
       "      <th>75%</th>\n",
       "      <td>-1.028772e-01</td>\n",
       "      <td>-1.079314e-01</td>\n",
       "      <td>-1.007459e-01</td>\n",
       "    </tr>\n",
       "    <tr>\n",
       "      <th>max</th>\n",
       "      <td>2.629669e+01</td>\n",
       "      <td>1.779176e+01</td>\n",
       "      <td>2.677485e+01</td>\n",
       "    </tr>\n",
       "  </tbody>\n",
       "</table>\n",
       "</div>"
      ],
      "text/plain": [
       "       awg_engagement_rate  comment_engagement_rate  like_engagement_rate\n",
       "count         1.000000e+03             1.000000e+03          1.000000e+03\n",
       "mean         -1.598721e-17             3.552714e-17         -1.598721e-17\n",
       "std           1.000500e+00             1.000500e+00          1.000500e+00\n",
       "min          -1.974082e-01            -1.655691e-01         -1.898510e-01\n",
       "25%          -1.898521e-01            -1.618728e-01         -1.827864e-01\n",
       "50%          -1.693830e-01            -1.513885e-01         -1.628093e-01\n",
       "75%          -1.028772e-01            -1.079314e-01         -1.007459e-01\n",
       "max           2.629669e+01             1.779176e+01          2.677485e+01"
      ]
     },
     "metadata": {},
     "output_type": "display_data"
    }
   ],
   "source": [
    "from sklearn.preprocessing import StandardScaler, MinMaxScaler\n",
    "\n",
    "# Select the columns to standardize\n",
    "columns_to_standardize = ['awg_engagement_rate', 'comment_engagement_rate', 'like_engagement_rate']\n",
    "\n",
    "# Standardization (Z-score)\n",
    "scaler = StandardScaler()\n",
    "data[columns_to_standardize] = scaler.fit_transform(data[columns_to_standardize])\n",
    "\n",
    "# Check results\n",
    "display(data[columns_to_standardize].describe())"
   ]
  },
  {
   "cell_type": "code",
   "execution_count": 14,
   "id": "12759c3a",
   "metadata": {
    "execution": {
     "iopub.execute_input": "2025-03-02T04:35:42.150211Z",
     "iopub.status.busy": "2025-03-02T04:35:42.149723Z",
     "iopub.status.idle": "2025-03-02T04:35:42.156866Z",
     "shell.execute_reply": "2025-03-02T04:35:42.155892Z"
    },
    "papermill": {
     "duration": 0.019461,
     "end_time": "2025-03-02T04:35:42.158297",
     "exception": false,
     "start_time": "2025-03-02T04:35:42.138836",
     "status": "completed"
    },
    "tags": []
   },
   "outputs": [
    {
     "data": {
      "text/plain": [
       "id                           int64\n",
       "awg_engagement_rate        float64\n",
       "comment_engagement_rate    float64\n",
       "like_engagement_rate       float64\n",
       "predicted_lang              object\n",
       "is_verified                   bool\n",
       "followers                    int64\n",
       "following                    int64\n",
       "likes                        int64\n",
       "videos_count                 int64\n",
       "digg_count                   int64\n",
       "is_private                    bool\n",
       "is_ad_virtual                 bool\n",
       "region                      object\n",
       "top_videos                  object\n",
       "dtype: object"
      ]
     },
     "execution_count": 14,
     "metadata": {},
     "output_type": "execute_result"
    }
   ],
   "source": [
    "data.dtypes"
   ]
  },
  {
   "cell_type": "code",
   "execution_count": 15,
   "id": "d58f45a4",
   "metadata": {
    "execution": {
     "iopub.execute_input": "2025-03-02T04:35:42.179743Z",
     "iopub.status.busy": "2025-03-02T04:35:42.179290Z",
     "iopub.status.idle": "2025-03-02T04:35:42.194224Z",
     "shell.execute_reply": "2025-03-02T04:35:42.193228Z"
    },
    "papermill": {
     "duration": 0.027441,
     "end_time": "2025-03-02T04:35:42.195901",
     "exception": false,
     "start_time": "2025-03-02T04:35:42.168460",
     "status": "completed"
    },
    "tags": []
   },
   "outputs": [
    {
     "data": {
      "text/html": [
       "<div>\n",
       "<style scoped>\n",
       "    .dataframe tbody tr th:only-of-type {\n",
       "        vertical-align: middle;\n",
       "    }\n",
       "\n",
       "    .dataframe tbody tr th {\n",
       "        vertical-align: top;\n",
       "    }\n",
       "\n",
       "    .dataframe thead th {\n",
       "        text-align: right;\n",
       "    }\n",
       "</style>\n",
       "<table border=\"1\" class=\"dataframe\">\n",
       "  <thead>\n",
       "    <tr style=\"text-align: right;\">\n",
       "      <th></th>\n",
       "      <th>id</th>\n",
       "      <th>awg_engagement_rate</th>\n",
       "      <th>comment_engagement_rate</th>\n",
       "      <th>like_engagement_rate</th>\n",
       "      <th>predicted_lang</th>\n",
       "      <th>is_verified</th>\n",
       "      <th>followers</th>\n",
       "      <th>following</th>\n",
       "      <th>likes</th>\n",
       "      <th>videos_count</th>\n",
       "      <th>digg_count</th>\n",
       "      <th>is_private</th>\n",
       "      <th>is_ad_virtual</th>\n",
       "      <th>region</th>\n",
       "      <th>top_videos</th>\n",
       "    </tr>\n",
       "  </thead>\n",
       "  <tbody>\n",
       "    <tr>\n",
       "      <th>0</th>\n",
       "      <td>6744469562807747589</td>\n",
       "      <td>0.335205</td>\n",
       "      <td>-0.113062</td>\n",
       "      <td>0.351956</td>\n",
       "      <td>en</td>\n",
       "      <td>False</td>\n",
       "      <td>19</td>\n",
       "      <td>1</td>\n",
       "      <td>275</td>\n",
       "      <td>9</td>\n",
       "      <td>0</td>\n",
       "      <td>True</td>\n",
       "      <td>False</td>\n",
       "      <td>US</td>\n",
       "      <td>[\"https://www.tiktok.com/@jztang_art/video/693...</td>\n",
       "    </tr>\n",
       "    <tr>\n",
       "      <th>1</th>\n",
       "      <td>6904794783643223046</td>\n",
       "      <td>-0.173798</td>\n",
       "      <td>-0.139506</td>\n",
       "      <td>-0.167615</td>\n",
       "      <td>en</td>\n",
       "      <td>False</td>\n",
       "      <td>106</td>\n",
       "      <td>378</td>\n",
       "      <td>1286</td>\n",
       "      <td>13</td>\n",
       "      <td>0</td>\n",
       "      <td>True</td>\n",
       "      <td>False</td>\n",
       "      <td>BR</td>\n",
       "      <td>[\"https://www.tiktok.com/@amwbaiqnajaj/video/6...</td>\n",
       "    </tr>\n",
       "    <tr>\n",
       "      <th>2</th>\n",
       "      <td>6566918905926762501</td>\n",
       "      <td>-0.196265</td>\n",
       "      <td>-0.165415</td>\n",
       "      <td>-0.188690</td>\n",
       "      <td>en</td>\n",
       "      <td>False</td>\n",
       "      <td>5826</td>\n",
       "      <td>5</td>\n",
       "      <td>793000</td>\n",
       "      <td>1537</td>\n",
       "      <td>0</td>\n",
       "      <td>True</td>\n",
       "      <td>False</td>\n",
       "      <td>SA</td>\n",
       "      <td>[\"https://www.tiktok.com/@k.mssqwziiii/video/7...</td>\n",
       "    </tr>\n",
       "    <tr>\n",
       "      <th>3</th>\n",
       "      <td>6637060722835046405</td>\n",
       "      <td>-0.196928</td>\n",
       "      <td>-0.165408</td>\n",
       "      <td>-0.189370</td>\n",
       "      <td>en</td>\n",
       "      <td>False</td>\n",
       "      <td>44600</td>\n",
       "      <td>97</td>\n",
       "      <td>224700</td>\n",
       "      <td>2091</td>\n",
       "      <td>0</td>\n",
       "      <td>True</td>\n",
       "      <td>False</td>\n",
       "      <td>BD</td>\n",
       "      <td>[\"https://www.tiktok.com/@towwnimaaa_/video/72...</td>\n",
       "    </tr>\n",
       "    <tr>\n",
       "      <th>4</th>\n",
       "      <td>6804509823943214085</td>\n",
       "      <td>1.826345</td>\n",
       "      <td>0.027224</td>\n",
       "      <td>1.869337</td>\n",
       "      <td>en</td>\n",
       "      <td>False</td>\n",
       "      <td>163</td>\n",
       "      <td>53</td>\n",
       "      <td>7552</td>\n",
       "      <td>12</td>\n",
       "      <td>0</td>\n",
       "      <td>True</td>\n",
       "      <td>False</td>\n",
       "      <td>RU</td>\n",
       "      <td>[\"https://www.tiktok.com/@_uiui_r_/video/70719...</td>\n",
       "    </tr>\n",
       "  </tbody>\n",
       "</table>\n",
       "</div>"
      ],
      "text/plain": [
       "                    id  awg_engagement_rate  comment_engagement_rate  \\\n",
       "0  6744469562807747589             0.335205                -0.113062   \n",
       "1  6904794783643223046            -0.173798                -0.139506   \n",
       "2  6566918905926762501            -0.196265                -0.165415   \n",
       "3  6637060722835046405            -0.196928                -0.165408   \n",
       "4  6804509823943214085             1.826345                 0.027224   \n",
       "\n",
       "   like_engagement_rate predicted_lang  is_verified  followers  following  \\\n",
       "0              0.351956             en        False         19          1   \n",
       "1             -0.167615             en        False        106        378   \n",
       "2             -0.188690             en        False       5826          5   \n",
       "3             -0.189370             en        False      44600         97   \n",
       "4              1.869337             en        False        163         53   \n",
       "\n",
       "    likes  videos_count  digg_count  is_private  is_ad_virtual region  \\\n",
       "0     275             9           0        True          False     US   \n",
       "1    1286            13           0        True          False     BR   \n",
       "2  793000          1537           0        True          False     SA   \n",
       "3  224700          2091           0        True          False     BD   \n",
       "4    7552            12           0        True          False     RU   \n",
       "\n",
       "                                          top_videos  \n",
       "0  [\"https://www.tiktok.com/@jztang_art/video/693...  \n",
       "1  [\"https://www.tiktok.com/@amwbaiqnajaj/video/6...  \n",
       "2  [\"https://www.tiktok.com/@k.mssqwziiii/video/7...  \n",
       "3  [\"https://www.tiktok.com/@towwnimaaa_/video/72...  \n",
       "4  [\"https://www.tiktok.com/@_uiui_r_/video/70719...  "
      ]
     },
     "execution_count": 15,
     "metadata": {},
     "output_type": "execute_result"
    }
   ],
   "source": [
    "data.head()"
   ]
  },
  {
   "cell_type": "markdown",
   "id": "60e5cea5",
   "metadata": {
    "papermill": {
     "duration": 0.00997,
     "end_time": "2025-03-02T04:35:42.216397",
     "exception": false,
     "start_time": "2025-03-02T04:35:42.206427",
     "status": "completed"
    },
    "tags": []
   },
   "source": [
    "## The data is clean, let's proceed with SQL queries"
   ]
  },
  {
   "cell_type": "code",
   "execution_count": 16,
   "id": "34a52519",
   "metadata": {
    "execution": {
     "iopub.execute_input": "2025-03-02T04:35:42.239855Z",
     "iopub.status.busy": "2025-03-02T04:35:42.239435Z",
     "iopub.status.idle": "2025-03-02T04:35:42.261314Z",
     "shell.execute_reply": "2025-03-02T04:35:42.260167Z"
    },
    "papermill": {
     "duration": 0.035461,
     "end_time": "2025-03-02T04:35:42.263299",
     "exception": false,
     "start_time": "2025-03-02T04:35:42.227838",
     "status": "completed"
    },
    "tags": []
   },
   "outputs": [
    {
     "data": {
      "text/plain": [
       "1000"
      ]
     },
     "execution_count": 16,
     "metadata": {},
     "output_type": "execute_result"
    }
   ],
   "source": [
    "import sqlite3\n",
    "# Create an SQLite database in memory\n",
    "conn = sqlite3.connect(\":memory:\")  #  creates an in-memory SQLite database\n",
    "cursor = conn.cursor()  # Explicitly create a cursor \n",
    "\n",
    "# Load cleaned dataset into SQLite\n",
    "data.to_sql(\"tiktok_profiles\", conn, index=False, if_exists=\"replace\")"
   ]
  },
  {
   "cell_type": "markdown",
   "id": "b4d482f8",
   "metadata": {
    "papermill": {
     "duration": 0.010167,
     "end_time": "2025-03-02T04:35:42.284246",
     "exception": false,
     "start_time": "2025-03-02T04:35:42.274079",
     "status": "completed"
    },
    "tags": []
   },
   "source": [
    "### Top 10 Influencers by Engagement Rate"
   ]
  },
  {
   "cell_type": "code",
   "execution_count": 17,
   "id": "18a31886",
   "metadata": {
    "execution": {
     "iopub.execute_input": "2025-03-02T04:35:42.306785Z",
     "iopub.status.busy": "2025-03-02T04:35:42.306373Z",
     "iopub.status.idle": "2025-03-02T04:35:42.318337Z",
     "shell.execute_reply": "2025-03-02T04:35:42.317210Z"
    },
    "papermill": {
     "duration": 0.024958,
     "end_time": "2025-03-02T04:35:42.320058",
     "exception": false,
     "start_time": "2025-03-02T04:35:42.295100",
     "status": "completed"
    },
    "tags": []
   },
   "outputs": [
    {
     "data": {
      "text/html": [
       "<div>\n",
       "<style scoped>\n",
       "    .dataframe tbody tr th:only-of-type {\n",
       "        vertical-align: middle;\n",
       "    }\n",
       "\n",
       "    .dataframe tbody tr th {\n",
       "        vertical-align: top;\n",
       "    }\n",
       "\n",
       "    .dataframe thead th {\n",
       "        text-align: right;\n",
       "    }\n",
       "</style>\n",
       "<table border=\"1\" class=\"dataframe\">\n",
       "  <thead>\n",
       "    <tr style=\"text-align: right;\">\n",
       "      <th></th>\n",
       "      <th>id</th>\n",
       "      <th>followers</th>\n",
       "      <th>videos_count</th>\n",
       "      <th>awg_engagement_rate</th>\n",
       "    </tr>\n",
       "  </thead>\n",
       "  <tbody>\n",
       "    <tr>\n",
       "      <th>0</th>\n",
       "      <td>6761860606440375297</td>\n",
       "      <td>130</td>\n",
       "      <td>2</td>\n",
       "      <td>26.296690</td>\n",
       "    </tr>\n",
       "    <tr>\n",
       "      <th>1</th>\n",
       "      <td>6989677079177397254</td>\n",
       "      <td>1</td>\n",
       "      <td>2</td>\n",
       "      <td>6.378683</td>\n",
       "    </tr>\n",
       "    <tr>\n",
       "      <th>2</th>\n",
       "      <td>6791545190252495878</td>\n",
       "      <td>870</td>\n",
       "      <td>6</td>\n",
       "      <td>5.778236</td>\n",
       "    </tr>\n",
       "    <tr>\n",
       "      <th>3</th>\n",
       "      <td>7066131924145701894</td>\n",
       "      <td>1157</td>\n",
       "      <td>4</td>\n",
       "      <td>5.503385</td>\n",
       "    </tr>\n",
       "    <tr>\n",
       "      <th>4</th>\n",
       "      <td>7072780776455390214</td>\n",
       "      <td>12</td>\n",
       "      <td>3</td>\n",
       "      <td>4.122714</td>\n",
       "    </tr>\n",
       "    <tr>\n",
       "      <th>5</th>\n",
       "      <td>7016420040141456389</td>\n",
       "      <td>3</td>\n",
       "      <td>2</td>\n",
       "      <td>3.967445</td>\n",
       "    </tr>\n",
       "    <tr>\n",
       "      <th>6</th>\n",
       "      <td>6733545369197757441</td>\n",
       "      <td>178</td>\n",
       "      <td>17</td>\n",
       "      <td>3.930790</td>\n",
       "    </tr>\n",
       "    <tr>\n",
       "      <th>7</th>\n",
       "      <td>6949875187790660613</td>\n",
       "      <td>1</td>\n",
       "      <td>1</td>\n",
       "      <td>3.419436</td>\n",
       "    </tr>\n",
       "    <tr>\n",
       "      <th>8</th>\n",
       "      <td>6948148615328793605</td>\n",
       "      <td>3202</td>\n",
       "      <td>18</td>\n",
       "      <td>3.264658</td>\n",
       "    </tr>\n",
       "    <tr>\n",
       "      <th>9</th>\n",
       "      <td>6951881032375436293</td>\n",
       "      <td>19800</td>\n",
       "      <td>1</td>\n",
       "      <td>3.243409</td>\n",
       "    </tr>\n",
       "  </tbody>\n",
       "</table>\n",
       "</div>"
      ],
      "text/plain": [
       "                    id  followers  videos_count  awg_engagement_rate\n",
       "0  6761860606440375297        130             2            26.296690\n",
       "1  6989677079177397254          1             2             6.378683\n",
       "2  6791545190252495878        870             6             5.778236\n",
       "3  7066131924145701894       1157             4             5.503385\n",
       "4  7072780776455390214         12             3             4.122714\n",
       "5  7016420040141456389          3             2             3.967445\n",
       "6  6733545369197757441        178            17             3.930790\n",
       "7  6949875187790660613          1             1             3.419436\n",
       "8  6948148615328793605       3202            18             3.264658\n",
       "9  6951881032375436293      19800             1             3.243409"
      ]
     },
     "metadata": {},
     "output_type": "display_data"
    }
   ],
   "source": [
    "query = \"\"\"\n",
    "select id, followers, videos_count, awg_engagement_rate\n",
    "from tiktok_profiles \n",
    "order by awg_engagement_rate desc \n",
    "limit 10\n",
    "\"\"\"\n",
    "top_influencers = pd.read_sql(query, conn)\n",
    "display(top_influencers)"
   ]
  },
  {
   "cell_type": "markdown",
   "id": "11586fdf",
   "metadata": {
    "papermill": {
     "duration": 0.011004,
     "end_time": "2025-03-02T04:35:42.342602",
     "exception": false,
     "start_time": "2025-03-02T04:35:42.331598",
     "status": "completed"
    },
    "tags": []
   },
   "source": [
    "Insight: Identifies influencers with highest engagement rates.\n",
    "\n",
    "\n",
    "### Followers vs. Engagement Rate by Influencer Category"
   ]
  },
  {
   "cell_type": "code",
   "execution_count": 18,
   "id": "3e6a73ee",
   "metadata": {
    "execution": {
     "iopub.execute_input": "2025-03-02T04:35:42.367081Z",
     "iopub.status.busy": "2025-03-02T04:35:42.366701Z",
     "iopub.status.idle": "2025-03-02T04:35:42.377499Z",
     "shell.execute_reply": "2025-03-02T04:35:42.376288Z"
    },
    "papermill": {
     "duration": 0.026026,
     "end_time": "2025-03-02T04:35:42.379556",
     "exception": false,
     "start_time": "2025-03-02T04:35:42.353530",
     "status": "completed"
    },
    "tags": []
   },
   "outputs": [
    {
     "data": {
      "text/html": [
       "<div>\n",
       "<style scoped>\n",
       "    .dataframe tbody tr th:only-of-type {\n",
       "        vertical-align: middle;\n",
       "    }\n",
       "\n",
       "    .dataframe tbody tr th {\n",
       "        vertical-align: top;\n",
       "    }\n",
       "\n",
       "    .dataframe thead th {\n",
       "        text-align: right;\n",
       "    }\n",
       "</style>\n",
       "<table border=\"1\" class=\"dataframe\">\n",
       "  <thead>\n",
       "    <tr style=\"text-align: right;\">\n",
       "      <th></th>\n",
       "      <th>influencer_category</th>\n",
       "      <th>avg_engagement</th>\n",
       "    </tr>\n",
       "  </thead>\n",
       "  <tbody>\n",
       "    <tr>\n",
       "      <th>0</th>\n",
       "      <td>Macro</td>\n",
       "      <td>-0.175344</td>\n",
       "    </tr>\n",
       "    <tr>\n",
       "      <th>1</th>\n",
       "      <td>Micro</td>\n",
       "      <td>0.019485</td>\n",
       "    </tr>\n",
       "    <tr>\n",
       "      <th>2</th>\n",
       "      <td>Mid-tier</td>\n",
       "      <td>-0.093232</td>\n",
       "    </tr>\n",
       "  </tbody>\n",
       "</table>\n",
       "</div>"
      ],
      "text/plain": [
       "  influencer_category  avg_engagement\n",
       "0               Macro       -0.175344\n",
       "1               Micro        0.019485\n",
       "2            Mid-tier       -0.093232"
      ]
     },
     "metadata": {},
     "output_type": "display_data"
    }
   ],
   "source": [
    "query = \"\"\"\n",
    "select \n",
    "case \n",
    "WHEN followers < 10000 THEN 'Micro'\n",
    "WHEN followers BETWEEN 10000 AND 100000 THEN 'Mid-tier'\n",
    "WHEN followers BETWEEN 100000 AND 1000000 THEN 'Macro'\n",
    "ELSE 'Mega'\n",
    "end as influencer_category, avg(awg_engagement_rate) as avg_engagement\n",
    "from tiktok_profiles \n",
    "group by influencer_category\n",
    "\"\"\"\n",
    "engagement_by_category = pd.read_sql(query, conn)\n",
    "display(engagement_by_category)"
   ]
  },
  {
   "cell_type": "markdown",
   "id": "578174b8",
   "metadata": {
    "papermill": {
     "duration": 0.01072,
     "end_time": "2025-03-02T04:35:42.401366",
     "exception": false,
     "start_time": "2025-03-02T04:35:42.390646",
     "status": "completed"
    },
    "tags": []
   },
   "source": [
    "Do micro-influencers have better engagement than macro-influencers?\n",
    "\n",
    "No\n",
    "\n",
    "### Top 10 Regions with Highest Engagement"
   ]
  },
  {
   "cell_type": "code",
   "execution_count": 19,
   "id": "f64a119d",
   "metadata": {
    "execution": {
     "iopub.execute_input": "2025-03-02T04:35:42.424841Z",
     "iopub.status.busy": "2025-03-02T04:35:42.424384Z",
     "iopub.status.idle": "2025-03-02T04:35:42.436178Z",
     "shell.execute_reply": "2025-03-02T04:35:42.435079Z"
    },
    "papermill": {
     "duration": 0.025415,
     "end_time": "2025-03-02T04:35:42.437927",
     "exception": false,
     "start_time": "2025-03-02T04:35:42.412512",
     "status": "completed"
    },
    "tags": []
   },
   "outputs": [
    {
     "data": {
      "text/html": [
       "<div>\n",
       "<style scoped>\n",
       "    .dataframe tbody tr th:only-of-type {\n",
       "        vertical-align: middle;\n",
       "    }\n",
       "\n",
       "    .dataframe tbody tr th {\n",
       "        vertical-align: top;\n",
       "    }\n",
       "\n",
       "    .dataframe thead th {\n",
       "        text-align: right;\n",
       "    }\n",
       "</style>\n",
       "<table border=\"1\" class=\"dataframe\">\n",
       "  <thead>\n",
       "    <tr style=\"text-align: right;\">\n",
       "      <th></th>\n",
       "      <th>region</th>\n",
       "      <th>num_influencers</th>\n",
       "      <th>avg_engagement</th>\n",
       "    </tr>\n",
       "  </thead>\n",
       "  <tbody>\n",
       "    <tr>\n",
       "      <th>0</th>\n",
       "      <td>NO</td>\n",
       "      <td>2</td>\n",
       "      <td>1.614797</td>\n",
       "    </tr>\n",
       "    <tr>\n",
       "      <th>1</th>\n",
       "      <td>RO</td>\n",
       "      <td>4</td>\n",
       "      <td>0.945466</td>\n",
       "    </tr>\n",
       "    <tr>\n",
       "      <th>2</th>\n",
       "      <td>CL</td>\n",
       "      <td>3</td>\n",
       "      <td>0.889015</td>\n",
       "    </tr>\n",
       "    <tr>\n",
       "      <th>3</th>\n",
       "      <td>NP</td>\n",
       "      <td>2</td>\n",
       "      <td>0.839284</td>\n",
       "    </tr>\n",
       "    <tr>\n",
       "      <th>4</th>\n",
       "      <td>XK</td>\n",
       "      <td>1</td>\n",
       "      <td>0.778035</td>\n",
       "    </tr>\n",
       "    <tr>\n",
       "      <th>5</th>\n",
       "      <td>DK</td>\n",
       "      <td>1</td>\n",
       "      <td>0.725699</td>\n",
       "    </tr>\n",
       "    <tr>\n",
       "      <th>6</th>\n",
       "      <td>ES</td>\n",
       "      <td>11</td>\n",
       "      <td>0.551023</td>\n",
       "    </tr>\n",
       "    <tr>\n",
       "      <th>7</th>\n",
       "      <td>ID</td>\n",
       "      <td>58</td>\n",
       "      <td>0.373620</td>\n",
       "    </tr>\n",
       "    <tr>\n",
       "      <th>8</th>\n",
       "      <td>CO</td>\n",
       "      <td>6</td>\n",
       "      <td>0.367992</td>\n",
       "    </tr>\n",
       "    <tr>\n",
       "      <th>9</th>\n",
       "      <td>FR</td>\n",
       "      <td>24</td>\n",
       "      <td>0.345772</td>\n",
       "    </tr>\n",
       "  </tbody>\n",
       "</table>\n",
       "</div>"
      ],
      "text/plain": [
       "  region  num_influencers  avg_engagement\n",
       "0     NO                2        1.614797\n",
       "1     RO                4        0.945466\n",
       "2     CL                3        0.889015\n",
       "3     NP                2        0.839284\n",
       "4     XK                1        0.778035\n",
       "5     DK                1        0.725699\n",
       "6     ES               11        0.551023\n",
       "7     ID               58        0.373620\n",
       "8     CO                6        0.367992\n",
       "9     FR               24        0.345772"
      ]
     },
     "metadata": {},
     "output_type": "display_data"
    }
   ],
   "source": [
    "query = \"\"\"\n",
    "SELECT region, COUNT(id) AS num_influencers, AVG(awg_engagement_rate) AS avg_engagement\n",
    "FROM tiktok_profiles\n",
    "GROUP BY region\n",
    "ORDER BY avg_engagement DESC\n",
    "LIMIT 10;\n",
    "\"\"\"\n",
    "top_regions = pd.read_sql(query, conn)\n",
    "display(top_regions)"
   ]
  },
  {
   "cell_type": "markdown",
   "id": "cc4e8953",
   "metadata": {
    "papermill": {
     "duration": 0.010752,
     "end_time": "2025-03-02T04:35:42.459984",
     "exception": false,
     "start_time": "2025-03-02T04:35:42.449232",
     "status": "completed"
    },
    "tags": []
   },
   "source": [
    "### Engagement Rate of Verified vs. Non-Verified Influencers"
   ]
  },
  {
   "cell_type": "code",
   "execution_count": 20,
   "id": "d07063f2",
   "metadata": {
    "execution": {
     "iopub.execute_input": "2025-03-02T04:35:42.484262Z",
     "iopub.status.busy": "2025-03-02T04:35:42.483752Z",
     "iopub.status.idle": "2025-03-02T04:35:42.495548Z",
     "shell.execute_reply": "2025-03-02T04:35:42.494460Z"
    },
    "papermill": {
     "duration": 0.025863,
     "end_time": "2025-03-02T04:35:42.497299",
     "exception": false,
     "start_time": "2025-03-02T04:35:42.471436",
     "status": "completed"
    },
    "tags": []
   },
   "outputs": [
    {
     "data": {
      "text/html": [
       "<div>\n",
       "<style scoped>\n",
       "    .dataframe tbody tr th:only-of-type {\n",
       "        vertical-align: middle;\n",
       "    }\n",
       "\n",
       "    .dataframe tbody tr th {\n",
       "        vertical-align: top;\n",
       "    }\n",
       "\n",
       "    .dataframe thead th {\n",
       "        text-align: right;\n",
       "    }\n",
       "</style>\n",
       "<table border=\"1\" class=\"dataframe\">\n",
       "  <thead>\n",
       "    <tr style=\"text-align: right;\">\n",
       "      <th></th>\n",
       "      <th>is_verified</th>\n",
       "      <th>num_influencers</th>\n",
       "      <th>avg_engagement</th>\n",
       "      <th>avg_followers</th>\n",
       "    </tr>\n",
       "  </thead>\n",
       "  <tbody>\n",
       "    <tr>\n",
       "      <th>0</th>\n",
       "      <td>0</td>\n",
       "      <td>998</td>\n",
       "      <td>0.000374</td>\n",
       "      <td>13734.178357</td>\n",
       "    </tr>\n",
       "    <tr>\n",
       "      <th>1</th>\n",
       "      <td>1</td>\n",
       "      <td>2</td>\n",
       "      <td>-0.186414</td>\n",
       "      <td>277050.000000</td>\n",
       "    </tr>\n",
       "  </tbody>\n",
       "</table>\n",
       "</div>"
      ],
      "text/plain": [
       "   is_verified  num_influencers  avg_engagement  avg_followers\n",
       "0            0              998        0.000374   13734.178357\n",
       "1            1                2       -0.186414  277050.000000"
      ]
     },
     "metadata": {},
     "output_type": "display_data"
    }
   ],
   "source": [
    "query = \"\"\"\n",
    "SELECT is_verified, COUNT(id) AS num_influencers,\n",
    "    AVG(awg_engagement_rate) AS avg_engagement,\n",
    "    AVG(followers) AS avg_followers\n",
    "FROM tiktok_profiles\n",
    "GROUP BY is_verified;\n",
    "\"\"\"\n",
    "verified_stats = pd.read_sql(query, conn)\n",
    "display(verified_stats)"
   ]
  },
  {
   "cell_type": "markdown",
   "id": "e0b24340",
   "metadata": {
    "papermill": {
     "duration": 0.011351,
     "end_time": "2025-03-02T04:35:42.520138",
     "exception": false,
     "start_time": "2025-03-02T04:35:42.508787",
     "status": "completed"
    },
    "tags": []
   },
   "source": [
    "### Relationship Between Video Count & Engagement"
   ]
  },
  {
   "cell_type": "code",
   "execution_count": 21,
   "id": "15b0a0c6",
   "metadata": {
    "execution": {
     "iopub.execute_input": "2025-03-02T04:35:42.543933Z",
     "iopub.status.busy": "2025-03-02T04:35:42.543427Z",
     "iopub.status.idle": "2025-03-02T04:35:42.554697Z",
     "shell.execute_reply": "2025-03-02T04:35:42.553562Z"
    },
    "papermill": {
     "duration": 0.025403,
     "end_time": "2025-03-02T04:35:42.556683",
     "exception": false,
     "start_time": "2025-03-02T04:35:42.531280",
     "status": "completed"
    },
    "tags": []
   },
   "outputs": [
    {
     "data": {
      "text/html": [
       "<div>\n",
       "<style scoped>\n",
       "    .dataframe tbody tr th:only-of-type {\n",
       "        vertical-align: middle;\n",
       "    }\n",
       "\n",
       "    .dataframe tbody tr th {\n",
       "        vertical-align: top;\n",
       "    }\n",
       "\n",
       "    .dataframe thead th {\n",
       "        text-align: right;\n",
       "    }\n",
       "</style>\n",
       "<table border=\"1\" class=\"dataframe\">\n",
       "  <thead>\n",
       "    <tr style=\"text-align: right;\">\n",
       "      <th></th>\n",
       "      <th>videos_count</th>\n",
       "      <th>avg_engagement</th>\n",
       "    </tr>\n",
       "  </thead>\n",
       "  <tbody>\n",
       "    <tr>\n",
       "      <th>0</th>\n",
       "      <td>3923</td>\n",
       "      <td>-0.196179</td>\n",
       "    </tr>\n",
       "    <tr>\n",
       "      <th>1</th>\n",
       "      <td>2635</td>\n",
       "      <td>-0.197408</td>\n",
       "    </tr>\n",
       "    <tr>\n",
       "      <th>2</th>\n",
       "      <td>2495</td>\n",
       "      <td>-0.193987</td>\n",
       "    </tr>\n",
       "    <tr>\n",
       "      <th>3</th>\n",
       "      <td>2233</td>\n",
       "      <td>-0.197230</td>\n",
       "    </tr>\n",
       "    <tr>\n",
       "      <th>4</th>\n",
       "      <td>2204</td>\n",
       "      <td>-0.197097</td>\n",
       "    </tr>\n",
       "    <tr>\n",
       "      <th>5</th>\n",
       "      <td>2122</td>\n",
       "      <td>-0.196758</td>\n",
       "    </tr>\n",
       "    <tr>\n",
       "      <th>6</th>\n",
       "      <td>2091</td>\n",
       "      <td>-0.196928</td>\n",
       "    </tr>\n",
       "    <tr>\n",
       "      <th>7</th>\n",
       "      <td>1956</td>\n",
       "      <td>-0.197255</td>\n",
       "    </tr>\n",
       "    <tr>\n",
       "      <th>8</th>\n",
       "      <td>1917</td>\n",
       "      <td>-0.194298</td>\n",
       "    </tr>\n",
       "    <tr>\n",
       "      <th>9</th>\n",
       "      <td>1908</td>\n",
       "      <td>-0.196478</td>\n",
       "    </tr>\n",
       "    <tr>\n",
       "      <th>10</th>\n",
       "      <td>1871</td>\n",
       "      <td>-0.197387</td>\n",
       "    </tr>\n",
       "    <tr>\n",
       "      <th>11</th>\n",
       "      <td>1537</td>\n",
       "      <td>-0.196265</td>\n",
       "    </tr>\n",
       "    <tr>\n",
       "      <th>12</th>\n",
       "      <td>1535</td>\n",
       "      <td>-0.195679</td>\n",
       "    </tr>\n",
       "    <tr>\n",
       "      <th>13</th>\n",
       "      <td>1393</td>\n",
       "      <td>-0.196432</td>\n",
       "    </tr>\n",
       "    <tr>\n",
       "      <th>14</th>\n",
       "      <td>1295</td>\n",
       "      <td>-0.197071</td>\n",
       "    </tr>\n",
       "    <tr>\n",
       "      <th>15</th>\n",
       "      <td>1286</td>\n",
       "      <td>-0.197055</td>\n",
       "    </tr>\n",
       "    <tr>\n",
       "      <th>16</th>\n",
       "      <td>1251</td>\n",
       "      <td>-0.194574</td>\n",
       "    </tr>\n",
       "    <tr>\n",
       "      <th>17</th>\n",
       "      <td>1224</td>\n",
       "      <td>-0.196174</td>\n",
       "    </tr>\n",
       "    <tr>\n",
       "      <th>18</th>\n",
       "      <td>1180</td>\n",
       "      <td>-0.196621</td>\n",
       "    </tr>\n",
       "    <tr>\n",
       "      <th>19</th>\n",
       "      <td>1177</td>\n",
       "      <td>-0.194809</td>\n",
       "    </tr>\n",
       "  </tbody>\n",
       "</table>\n",
       "</div>"
      ],
      "text/plain": [
       "    videos_count  avg_engagement\n",
       "0           3923       -0.196179\n",
       "1           2635       -0.197408\n",
       "2           2495       -0.193987\n",
       "3           2233       -0.197230\n",
       "4           2204       -0.197097\n",
       "5           2122       -0.196758\n",
       "6           2091       -0.196928\n",
       "7           1956       -0.197255\n",
       "8           1917       -0.194298\n",
       "9           1908       -0.196478\n",
       "10          1871       -0.197387\n",
       "11          1537       -0.196265\n",
       "12          1535       -0.195679\n",
       "13          1393       -0.196432\n",
       "14          1295       -0.197071\n",
       "15          1286       -0.197055\n",
       "16          1251       -0.194574\n",
       "17          1224       -0.196174\n",
       "18          1180       -0.196621\n",
       "19          1177       -0.194809"
      ]
     },
     "metadata": {},
     "output_type": "display_data"
    }
   ],
   "source": [
    "query = \"\"\"\n",
    "SELECT videos_count, AVG(awg_engagement_rate) AS avg_engagement\n",
    "FROM tiktok_profiles\n",
    "GROUP BY videos_count\n",
    "ORDER BY videos_count DESC\n",
    "LIMIT 20;\n",
    "\"\"\"\n",
    "video_engagement = pd.read_sql(query, conn)\n",
    "display(video_engagement)\n"
   ]
  },
  {
   "cell_type": "markdown",
   "id": "3fb866d5",
   "metadata": {
    "papermill": {
     "duration": 0.01095,
     "end_time": "2025-03-02T04:35:42.579755",
     "exception": false,
     "start_time": "2025-03-02T04:35:42.568805",
     "status": "completed"
    },
    "tags": []
   },
   "source": [
    "### Does verification improve engagement?"
   ]
  },
  {
   "cell_type": "code",
   "execution_count": 22,
   "id": "99a68cbd",
   "metadata": {
    "execution": {
     "iopub.execute_input": "2025-03-02T04:35:42.605849Z",
     "iopub.status.busy": "2025-03-02T04:35:42.605448Z",
     "iopub.status.idle": "2025-03-02T04:35:42.616187Z",
     "shell.execute_reply": "2025-03-02T04:35:42.615112Z"
    },
    "papermill": {
     "duration": 0.026511,
     "end_time": "2025-03-02T04:35:42.617923",
     "exception": false,
     "start_time": "2025-03-02T04:35:42.591412",
     "status": "completed"
    },
    "tags": []
   },
   "outputs": [
    {
     "data": {
      "text/html": [
       "<div>\n",
       "<style scoped>\n",
       "    .dataframe tbody tr th:only-of-type {\n",
       "        vertical-align: middle;\n",
       "    }\n",
       "\n",
       "    .dataframe tbody tr th {\n",
       "        vertical-align: top;\n",
       "    }\n",
       "\n",
       "    .dataframe thead th {\n",
       "        text-align: right;\n",
       "    }\n",
       "</style>\n",
       "<table border=\"1\" class=\"dataframe\">\n",
       "  <thead>\n",
       "    <tr style=\"text-align: right;\">\n",
       "      <th></th>\n",
       "      <th>is_verified</th>\n",
       "      <th>avg_engagement</th>\n",
       "      <th>num_influencers</th>\n",
       "    </tr>\n",
       "  </thead>\n",
       "  <tbody>\n",
       "    <tr>\n",
       "      <th>0</th>\n",
       "      <td>0</td>\n",
       "      <td>0.000374</td>\n",
       "      <td>998</td>\n",
       "    </tr>\n",
       "    <tr>\n",
       "      <th>1</th>\n",
       "      <td>1</td>\n",
       "      <td>-0.186414</td>\n",
       "      <td>2</td>\n",
       "    </tr>\n",
       "  </tbody>\n",
       "</table>\n",
       "</div>"
      ],
      "text/plain": [
       "   is_verified  avg_engagement  num_influencers\n",
       "0            0        0.000374              998\n",
       "1            1       -0.186414                2"
      ]
     },
     "metadata": {},
     "output_type": "display_data"
    }
   ],
   "source": [
    "query = \"\"\"\n",
    "SELECT is_verified, \n",
    "       AVG(awg_engagement_rate) AS avg_engagement, \n",
    "       COUNT(id) AS num_influencers\n",
    "FROM tiktok_profiles\n",
    "GROUP BY is_verified;\n",
    "\"\"\"\n",
    "ab_test_result = pd.read_sql(query, conn)\n",
    "display(ab_test_result)\n"
   ]
  },
  {
   "cell_type": "markdown",
   "id": "adcbf4b8",
   "metadata": {
    "papermill": {
     "duration": 0.011023,
     "end_time": "2025-03-02T04:35:42.640774",
     "exception": false,
     "start_time": "2025-03-02T04:35:42.629751",
     "status": "completed"
    },
    "tags": []
   },
   "source": [
    "Non-verified influencers generally have a very low engagement rate (close to zero).\n",
    "\n",
    "This negative value suggests that after standardization, the verified influencers' engagement rate is below the dataset's mean engagement rate."
   ]
  },
  {
   "cell_type": "markdown",
   "id": "f4f3e8bb",
   "metadata": {
    "papermill": {
     "duration": 0.011102,
     "end_time": "2025-03-02T04:35:42.663263",
     "exception": false,
     "start_time": "2025-03-02T04:35:42.652161",
     "status": "completed"
    },
    "tags": []
   },
   "source": [
    "### Marketplace Efficiency - Follower Growth Analysis\n",
    "\n",
    "Measure the growth rate of followers to identify fast-rising influencers.\n",
    "Helps TikTok optimize its influencer marketplace."
   ]
  },
  {
   "cell_type": "code",
   "execution_count": 23,
   "id": "c35560e3",
   "metadata": {
    "execution": {
     "iopub.execute_input": "2025-03-02T04:35:42.688153Z",
     "iopub.status.busy": "2025-03-02T04:35:42.687815Z",
     "iopub.status.idle": "2025-03-02T04:35:42.699781Z",
     "shell.execute_reply": "2025-03-02T04:35:42.698695Z"
    },
    "papermill": {
     "duration": 0.027072,
     "end_time": "2025-03-02T04:35:42.701803",
     "exception": false,
     "start_time": "2025-03-02T04:35:42.674731",
     "status": "completed"
    },
    "tags": []
   },
   "outputs": [
    {
     "data": {
      "text/html": [
       "<div>\n",
       "<style scoped>\n",
       "    .dataframe tbody tr th:only-of-type {\n",
       "        vertical-align: middle;\n",
       "    }\n",
       "\n",
       "    .dataframe tbody tr th {\n",
       "        vertical-align: top;\n",
       "    }\n",
       "\n",
       "    .dataframe thead th {\n",
       "        text-align: right;\n",
       "    }\n",
       "</style>\n",
       "<table border=\"1\" class=\"dataframe\">\n",
       "  <thead>\n",
       "    <tr style=\"text-align: right;\">\n",
       "      <th></th>\n",
       "      <th>id</th>\n",
       "      <th>followers</th>\n",
       "      <th>videos_count</th>\n",
       "      <th>followers_per_video</th>\n",
       "    </tr>\n",
       "  </thead>\n",
       "  <tbody>\n",
       "    <tr>\n",
       "      <th>0</th>\n",
       "      <td>6951881032375436293</td>\n",
       "      <td>19800</td>\n",
       "      <td>1</td>\n",
       "      <td>19800.0</td>\n",
       "    </tr>\n",
       "    <tr>\n",
       "      <th>1</th>\n",
       "      <td>6798230807473849350</td>\n",
       "      <td>15800</td>\n",
       "      <td>1</td>\n",
       "      <td>15800.0</td>\n",
       "    </tr>\n",
       "    <tr>\n",
       "      <th>2</th>\n",
       "      <td>6911061574435357698</td>\n",
       "      <td>24800</td>\n",
       "      <td>2</td>\n",
       "      <td>12400.0</td>\n",
       "    </tr>\n",
       "    <tr>\n",
       "      <th>3</th>\n",
       "      <td>81028050645106688</td>\n",
       "      <td>487800</td>\n",
       "      <td>67</td>\n",
       "      <td>7280.0</td>\n",
       "    </tr>\n",
       "    <tr>\n",
       "      <th>4</th>\n",
       "      <td>6948829470229300229</td>\n",
       "      <td>415000</td>\n",
       "      <td>63</td>\n",
       "      <td>6587.0</td>\n",
       "    </tr>\n",
       "    <tr>\n",
       "      <th>5</th>\n",
       "      <td>6714593971282641926</td>\n",
       "      <td>5804</td>\n",
       "      <td>1</td>\n",
       "      <td>5804.0</td>\n",
       "    </tr>\n",
       "    <tr>\n",
       "      <th>6</th>\n",
       "      <td>6808092341582267394</td>\n",
       "      <td>722300</td>\n",
       "      <td>153</td>\n",
       "      <td>4720.0</td>\n",
       "    </tr>\n",
       "    <tr>\n",
       "      <th>7</th>\n",
       "      <td>6762674634293019653</td>\n",
       "      <td>166100</td>\n",
       "      <td>36</td>\n",
       "      <td>4613.0</td>\n",
       "    </tr>\n",
       "    <tr>\n",
       "      <th>8</th>\n",
       "      <td>6964313100094866433</td>\n",
       "      <td>387900</td>\n",
       "      <td>90</td>\n",
       "      <td>4310.0</td>\n",
       "    </tr>\n",
       "    <tr>\n",
       "      <th>9</th>\n",
       "      <td>73008986968</td>\n",
       "      <td>63100</td>\n",
       "      <td>15</td>\n",
       "      <td>4206.0</td>\n",
       "    </tr>\n",
       "  </tbody>\n",
       "</table>\n",
       "</div>"
      ],
      "text/plain": [
       "                    id  followers  videos_count  followers_per_video\n",
       "0  6951881032375436293      19800             1              19800.0\n",
       "1  6798230807473849350      15800             1              15800.0\n",
       "2  6911061574435357698      24800             2              12400.0\n",
       "3    81028050645106688     487800            67               7280.0\n",
       "4  6948829470229300229     415000            63               6587.0\n",
       "5  6714593971282641926       5804             1               5804.0\n",
       "6  6808092341582267394     722300           153               4720.0\n",
       "7  6762674634293019653     166100            36               4613.0\n",
       "8  6964313100094866433     387900            90               4310.0\n",
       "9          73008986968      63100            15               4206.0"
      ]
     },
     "metadata": {},
     "output_type": "display_data"
    }
   ],
   "source": [
    "query = \"\"\"\n",
    "SELECT id, followers, videos_count, \n",
    "       ROUND((followers / NULLIF(videos_count, 0)), 2) AS followers_per_video\n",
    "FROM tiktok_profiles\n",
    "ORDER BY followers_per_video DESC\n",
    "LIMIT 10;\n",
    "\"\"\"\n",
    "follower_growth = pd.read_sql(query, conn)\n",
    "display(follower_growth)\n"
   ]
  },
  {
   "cell_type": "markdown",
   "id": "5c4b5eb0",
   "metadata": {
    "papermill": {
     "duration": 0.011658,
     "end_time": "2025-03-02T04:35:42.725605",
     "exception": false,
     "start_time": "2025-03-02T04:35:42.713947",
     "status": "completed"
    },
    "tags": []
   },
   "source": [
    "### What Type of Content Gets the Most Engagement?"
   ]
  },
  {
   "cell_type": "code",
   "execution_count": 24,
   "id": "06552bd7",
   "metadata": {
    "execution": {
     "iopub.execute_input": "2025-03-02T04:35:42.750571Z",
     "iopub.status.busy": "2025-03-02T04:35:42.750172Z",
     "iopub.status.idle": "2025-03-02T04:35:42.765871Z",
     "shell.execute_reply": "2025-03-02T04:35:42.764726Z"
    },
    "papermill": {
     "duration": 0.030274,
     "end_time": "2025-03-02T04:35:42.767727",
     "exception": false,
     "start_time": "2025-03-02T04:35:42.737453",
     "status": "completed"
    },
    "tags": []
   },
   "outputs": [
    {
     "data": {
      "text/html": [
       "<div>\n",
       "<style scoped>\n",
       "    .dataframe tbody tr th:only-of-type {\n",
       "        vertical-align: middle;\n",
       "    }\n",
       "\n",
       "    .dataframe tbody tr th {\n",
       "        vertical-align: top;\n",
       "    }\n",
       "\n",
       "    .dataframe thead th {\n",
       "        text-align: right;\n",
       "    }\n",
       "</style>\n",
       "<table border=\"1\" class=\"dataframe\">\n",
       "  <thead>\n",
       "    <tr style=\"text-align: right;\">\n",
       "      <th></th>\n",
       "      <th>sample_video</th>\n",
       "      <th>num_influencers</th>\n",
       "      <th>avg_engagement</th>\n",
       "    </tr>\n",
       "  </thead>\n",
       "  <tbody>\n",
       "    <tr>\n",
       "      <th>0</th>\n",
       "      <td>[\"https://www.tiktok.com/@sindiicn/video/70812...</td>\n",
       "      <td>1</td>\n",
       "      <td>26.2967</td>\n",
       "    </tr>\n",
       "    <tr>\n",
       "      <th>1</th>\n",
       "      <td>[\"https://www.tiktok.com/@ltlt...ltlt/video/69...</td>\n",
       "      <td>1</td>\n",
       "      <td>6.3787</td>\n",
       "    </tr>\n",
       "    <tr>\n",
       "      <th>2</th>\n",
       "      <td>[\"https://www.tiktok.com/@parrica08/video/7258...</td>\n",
       "      <td>1</td>\n",
       "      <td>5.7782</td>\n",
       "    </tr>\n",
       "    <tr>\n",
       "      <th>3</th>\n",
       "      <td>[\"https://www.tiktok.com/@tclsfilms/video/7067...</td>\n",
       "      <td>1</td>\n",
       "      <td>5.5034</td>\n",
       "    </tr>\n",
       "    <tr>\n",
       "      <th>4</th>\n",
       "      <td>[\"https://www.tiktok.com/@p4ul4x/video/7073542...</td>\n",
       "      <td>1</td>\n",
       "      <td>4.1227</td>\n",
       "    </tr>\n",
       "  </tbody>\n",
       "</table>\n",
       "</div>"
      ],
      "text/plain": [
       "                                        sample_video  num_influencers  \\\n",
       "0  [\"https://www.tiktok.com/@sindiicn/video/70812...                1   \n",
       "1  [\"https://www.tiktok.com/@ltlt...ltlt/video/69...                1   \n",
       "2  [\"https://www.tiktok.com/@parrica08/video/7258...                1   \n",
       "3  [\"https://www.tiktok.com/@tclsfilms/video/7067...                1   \n",
       "4  [\"https://www.tiktok.com/@p4ul4x/video/7073542...                1   \n",
       "\n",
       "   avg_engagement  \n",
       "0         26.2967  \n",
       "1          6.3787  \n",
       "2          5.7782  \n",
       "3          5.5034  \n",
       "4          4.1227  "
      ]
     },
     "metadata": {},
     "output_type": "display_data"
    }
   ],
   "source": [
    "query = \"\"\"\n",
    "SELECT \n",
    "    SUBSTR(top_videos, 1, 50) AS sample_video,\n",
    "    COUNT(id) AS num_influencers,\n",
    "    ROUND(AVG(awg_engagement_rate), 4) AS avg_engagement\n",
    "FROM tiktok_profiles\n",
    "GROUP BY sample_video\n",
    "ORDER BY avg_engagement DESC\n",
    "LIMIT 5;\n",
    "\"\"\"\n",
    "engagement = pd.read_sql(query, conn)\n",
    "display(engagement)"
   ]
  },
  {
   "cell_type": "markdown",
   "id": "e21b8bb2",
   "metadata": {
    "papermill": {
     "duration": 0.011599,
     "end_time": "2025-03-02T04:35:42.791573",
     "exception": false,
     "start_time": "2025-03-02T04:35:42.779974",
     "status": "completed"
    },
    "tags": []
   },
   "source": [
    "### Fastest Growing Influencers (Followers per Video)"
   ]
  },
  {
   "cell_type": "code",
   "execution_count": 25,
   "id": "d9f9baa0",
   "metadata": {
    "execution": {
     "iopub.execute_input": "2025-03-02T04:35:42.816832Z",
     "iopub.status.busy": "2025-03-02T04:35:42.816441Z",
     "iopub.status.idle": "2025-03-02T04:35:42.828344Z",
     "shell.execute_reply": "2025-03-02T04:35:42.827281Z"
    },
    "papermill": {
     "duration": 0.026701,
     "end_time": "2025-03-02T04:35:42.830225",
     "exception": false,
     "start_time": "2025-03-02T04:35:42.803524",
     "status": "completed"
    },
    "tags": []
   },
   "outputs": [
    {
     "data": {
      "text/html": [
       "<div>\n",
       "<style scoped>\n",
       "    .dataframe tbody tr th:only-of-type {\n",
       "        vertical-align: middle;\n",
       "    }\n",
       "\n",
       "    .dataframe tbody tr th {\n",
       "        vertical-align: top;\n",
       "    }\n",
       "\n",
       "    .dataframe thead th {\n",
       "        text-align: right;\n",
       "    }\n",
       "</style>\n",
       "<table border=\"1\" class=\"dataframe\">\n",
       "  <thead>\n",
       "    <tr style=\"text-align: right;\">\n",
       "      <th></th>\n",
       "      <th>id</th>\n",
       "      <th>followers</th>\n",
       "      <th>videos_count</th>\n",
       "      <th>followers_per_video</th>\n",
       "    </tr>\n",
       "  </thead>\n",
       "  <tbody>\n",
       "    <tr>\n",
       "      <th>0</th>\n",
       "      <td>6951881032375436293</td>\n",
       "      <td>19800</td>\n",
       "      <td>1</td>\n",
       "      <td>19800.0</td>\n",
       "    </tr>\n",
       "    <tr>\n",
       "      <th>1</th>\n",
       "      <td>6798230807473849350</td>\n",
       "      <td>15800</td>\n",
       "      <td>1</td>\n",
       "      <td>15800.0</td>\n",
       "    </tr>\n",
       "    <tr>\n",
       "      <th>2</th>\n",
       "      <td>6911061574435357698</td>\n",
       "      <td>24800</td>\n",
       "      <td>2</td>\n",
       "      <td>12400.0</td>\n",
       "    </tr>\n",
       "    <tr>\n",
       "      <th>3</th>\n",
       "      <td>81028050645106688</td>\n",
       "      <td>487800</td>\n",
       "      <td>67</td>\n",
       "      <td>7280.0</td>\n",
       "    </tr>\n",
       "    <tr>\n",
       "      <th>4</th>\n",
       "      <td>6948829470229300229</td>\n",
       "      <td>415000</td>\n",
       "      <td>63</td>\n",
       "      <td>6587.0</td>\n",
       "    </tr>\n",
       "    <tr>\n",
       "      <th>5</th>\n",
       "      <td>6714593971282641926</td>\n",
       "      <td>5804</td>\n",
       "      <td>1</td>\n",
       "      <td>5804.0</td>\n",
       "    </tr>\n",
       "    <tr>\n",
       "      <th>6</th>\n",
       "      <td>6808092341582267394</td>\n",
       "      <td>722300</td>\n",
       "      <td>153</td>\n",
       "      <td>4720.0</td>\n",
       "    </tr>\n",
       "    <tr>\n",
       "      <th>7</th>\n",
       "      <td>6762674634293019653</td>\n",
       "      <td>166100</td>\n",
       "      <td>36</td>\n",
       "      <td>4613.0</td>\n",
       "    </tr>\n",
       "    <tr>\n",
       "      <th>8</th>\n",
       "      <td>6964313100094866433</td>\n",
       "      <td>387900</td>\n",
       "      <td>90</td>\n",
       "      <td>4310.0</td>\n",
       "    </tr>\n",
       "    <tr>\n",
       "      <th>9</th>\n",
       "      <td>73008986968</td>\n",
       "      <td>63100</td>\n",
       "      <td>15</td>\n",
       "      <td>4206.0</td>\n",
       "    </tr>\n",
       "  </tbody>\n",
       "</table>\n",
       "</div>"
      ],
      "text/plain": [
       "                    id  followers  videos_count  followers_per_video\n",
       "0  6951881032375436293      19800             1              19800.0\n",
       "1  6798230807473849350      15800             1              15800.0\n",
       "2  6911061574435357698      24800             2              12400.0\n",
       "3    81028050645106688     487800            67               7280.0\n",
       "4  6948829470229300229     415000            63               6587.0\n",
       "5  6714593971282641926       5804             1               5804.0\n",
       "6  6808092341582267394     722300           153               4720.0\n",
       "7  6762674634293019653     166100            36               4613.0\n",
       "8  6964313100094866433     387900            90               4310.0\n",
       "9          73008986968      63100            15               4206.0"
      ]
     },
     "metadata": {},
     "output_type": "display_data"
    }
   ],
   "source": [
    "query = \"\"\"\n",
    "SELECT id, followers, videos_count,\n",
    "       ROUND((followers / NULLIF(videos_count, 0)), 2) AS followers_per_video\n",
    "FROM tiktok_profiles\n",
    "ORDER BY followers_per_video DESC\n",
    "LIMIT 10;\n",
    "\n",
    "\"\"\"\n",
    "\n",
    "fast_influencer = pd.read_sql(query, conn)\n",
    "display(fast_influencer)"
   ]
  },
  {
   "cell_type": "markdown",
   "id": "1bdd0a6b",
   "metadata": {
    "papermill": {
     "duration": 0.011817,
     "end_time": "2025-03-02T04:35:42.854538",
     "exception": false,
     "start_time": "2025-03-02T04:35:42.842721",
     "status": "completed"
    },
    "tags": []
   },
   "source": [
    "### Find Most Efficient Influencers (Engagement per Video)"
   ]
  },
  {
   "cell_type": "code",
   "execution_count": 26,
   "id": "7e5ef510",
   "metadata": {
    "execution": {
     "iopub.execute_input": "2025-03-02T04:35:42.880405Z",
     "iopub.status.busy": "2025-03-02T04:35:42.879989Z",
     "iopub.status.idle": "2025-03-02T04:35:42.893369Z",
     "shell.execute_reply": "2025-03-02T04:35:42.892293Z"
    },
    "papermill": {
     "duration": 0.027914,
     "end_time": "2025-03-02T04:35:42.895014",
     "exception": false,
     "start_time": "2025-03-02T04:35:42.867100",
     "status": "completed"
    },
    "tags": []
   },
   "outputs": [
    {
     "data": {
      "text/html": [
       "<div>\n",
       "<style scoped>\n",
       "    .dataframe tbody tr th:only-of-type {\n",
       "        vertical-align: middle;\n",
       "    }\n",
       "\n",
       "    .dataframe tbody tr th {\n",
       "        vertical-align: top;\n",
       "    }\n",
       "\n",
       "    .dataframe thead th {\n",
       "        text-align: right;\n",
       "    }\n",
       "</style>\n",
       "<table border=\"1\" class=\"dataframe\">\n",
       "  <thead>\n",
       "    <tr style=\"text-align: right;\">\n",
       "      <th></th>\n",
       "      <th>id</th>\n",
       "      <th>followers</th>\n",
       "      <th>videos_count</th>\n",
       "      <th>likes</th>\n",
       "      <th>likes_per_video</th>\n",
       "      <th>engagement_per_video</th>\n",
       "    </tr>\n",
       "  </thead>\n",
       "  <tbody>\n",
       "    <tr>\n",
       "      <th>0</th>\n",
       "      <td>6761860606440375297</td>\n",
       "      <td>130</td>\n",
       "      <td>2</td>\n",
       "      <td>20800</td>\n",
       "      <td>10400.0</td>\n",
       "      <td>13.1483</td>\n",
       "    </tr>\n",
       "    <tr>\n",
       "      <th>1</th>\n",
       "      <td>6949875187790660613</td>\n",
       "      <td>1</td>\n",
       "      <td>1</td>\n",
       "      <td>7</td>\n",
       "      <td>7.0</td>\n",
       "      <td>3.4194</td>\n",
       "    </tr>\n",
       "    <tr>\n",
       "      <th>2</th>\n",
       "      <td>6951881032375436293</td>\n",
       "      <td>19800</td>\n",
       "      <td>1</td>\n",
       "      <td>134500</td>\n",
       "      <td>134500.0</td>\n",
       "      <td>3.2434</td>\n",
       "    </tr>\n",
       "    <tr>\n",
       "      <th>3</th>\n",
       "      <td>6989677079177397254</td>\n",
       "      <td>1</td>\n",
       "      <td>2</td>\n",
       "      <td>33</td>\n",
       "      <td>16.0</td>\n",
       "      <td>3.1893</td>\n",
       "    </tr>\n",
       "    <tr>\n",
       "      <th>4</th>\n",
       "      <td>7016420040141456389</td>\n",
       "      <td>3</td>\n",
       "      <td>2</td>\n",
       "      <td>71</td>\n",
       "      <td>35.0</td>\n",
       "      <td>1.9837</td>\n",
       "    </tr>\n",
       "    <tr>\n",
       "      <th>5</th>\n",
       "      <td>7061751047329989637</td>\n",
       "      <td>18</td>\n",
       "      <td>1</td>\n",
       "      <td>107</td>\n",
       "      <td>107.0</td>\n",
       "      <td>1.8302</td>\n",
       "    </tr>\n",
       "    <tr>\n",
       "      <th>6</th>\n",
       "      <td>7066131924145701894</td>\n",
       "      <td>1157</td>\n",
       "      <td>4</td>\n",
       "      <td>532300</td>\n",
       "      <td>133075.0</td>\n",
       "      <td>1.3758</td>\n",
       "    </tr>\n",
       "    <tr>\n",
       "      <th>7</th>\n",
       "      <td>7072780776455390214</td>\n",
       "      <td>12</td>\n",
       "      <td>3</td>\n",
       "      <td>471</td>\n",
       "      <td>157.0</td>\n",
       "      <td>1.3742</td>\n",
       "    </tr>\n",
       "    <tr>\n",
       "      <th>8</th>\n",
       "      <td>6926420836825121794</td>\n",
       "      <td>17</td>\n",
       "      <td>1</td>\n",
       "      <td>66</td>\n",
       "      <td>66.0</td>\n",
       "      <td>1.0985</td>\n",
       "    </tr>\n",
       "    <tr>\n",
       "      <th>9</th>\n",
       "      <td>6586992401892671494</td>\n",
       "      <td>277</td>\n",
       "      <td>3</td>\n",
       "      <td>8372</td>\n",
       "      <td>2790.0</td>\n",
       "      <td>1.0528</td>\n",
       "    </tr>\n",
       "  </tbody>\n",
       "</table>\n",
       "</div>"
      ],
      "text/plain": [
       "                    id  followers  videos_count   likes  likes_per_video  \\\n",
       "0  6761860606440375297        130             2   20800          10400.0   \n",
       "1  6949875187790660613          1             1       7              7.0   \n",
       "2  6951881032375436293      19800             1  134500         134500.0   \n",
       "3  6989677079177397254          1             2      33             16.0   \n",
       "4  7016420040141456389          3             2      71             35.0   \n",
       "5  7061751047329989637         18             1     107            107.0   \n",
       "6  7066131924145701894       1157             4  532300         133075.0   \n",
       "7  7072780776455390214         12             3     471            157.0   \n",
       "8  6926420836825121794         17             1      66             66.0   \n",
       "9  6586992401892671494        277             3    8372           2790.0   \n",
       "\n",
       "   engagement_per_video  \n",
       "0               13.1483  \n",
       "1                3.4194  \n",
       "2                3.2434  \n",
       "3                3.1893  \n",
       "4                1.9837  \n",
       "5                1.8302  \n",
       "6                1.3758  \n",
       "7                1.3742  \n",
       "8                1.0985  \n",
       "9                1.0528  "
      ]
     },
     "metadata": {},
     "output_type": "display_data"
    }
   ],
   "source": [
    "query = \"\"\"\n",
    "SELECT id, followers, videos_count, likes,\n",
    "       ROUND((likes / NULLIF(videos_count, 0)), 2) AS likes_per_video,\n",
    "       ROUND((awg_engagement_rate / NULLIF(videos_count, 0)), 4) AS engagement_per_video\n",
    "FROM tiktok_profiles\n",
    "ORDER BY engagement_per_video DESC\n",
    "LIMIT 10;\n",
    "\"\"\"\n",
    "\n",
    "efficient_influencers = pd.read_sql(query, conn)\n",
    "display(efficient_influencers)"
   ]
  },
  {
   "cell_type": "markdown",
   "id": "f1c91c53",
   "metadata": {
    "papermill": {
     "duration": 0.013273,
     "end_time": "2025-03-02T04:35:42.921313",
     "exception": false,
     "start_time": "2025-03-02T04:35:42.908040",
     "status": "completed"
    },
    "tags": []
   },
   "source": [
    "##### Helps brands pick influencers who drive the most engagement without spamming videos.\n",
    "\n",
    "\n",
    "### Engagement Rate vs. Follower Growth (Identifying Rising Stars)"
   ]
  },
  {
   "cell_type": "code",
   "execution_count": 27,
   "id": "250eae0d",
   "metadata": {
    "execution": {
     "iopub.execute_input": "2025-03-02T04:35:42.947584Z",
     "iopub.status.busy": "2025-03-02T04:35:42.947179Z",
     "iopub.status.idle": "2025-03-02T04:35:42.960738Z",
     "shell.execute_reply": "2025-03-02T04:35:42.959599Z"
    },
    "papermill": {
     "duration": 0.02863,
     "end_time": "2025-03-02T04:35:42.962577",
     "exception": false,
     "start_time": "2025-03-02T04:35:42.933947",
     "status": "completed"
    },
    "tags": []
   },
   "outputs": [
    {
     "data": {
      "text/html": [
       "<div>\n",
       "<style scoped>\n",
       "    .dataframe tbody tr th:only-of-type {\n",
       "        vertical-align: middle;\n",
       "    }\n",
       "\n",
       "    .dataframe tbody tr th {\n",
       "        vertical-align: top;\n",
       "    }\n",
       "\n",
       "    .dataframe thead th {\n",
       "        text-align: right;\n",
       "    }\n",
       "</style>\n",
       "<table border=\"1\" class=\"dataframe\">\n",
       "  <thead>\n",
       "    <tr style=\"text-align: right;\">\n",
       "      <th></th>\n",
       "      <th>id</th>\n",
       "      <th>followers</th>\n",
       "      <th>videos_count</th>\n",
       "      <th>awg_engagement_rate</th>\n",
       "      <th>followers_per_video</th>\n",
       "    </tr>\n",
       "  </thead>\n",
       "  <tbody>\n",
       "    <tr>\n",
       "      <th>0</th>\n",
       "      <td>6951881032375436293</td>\n",
       "      <td>19800</td>\n",
       "      <td>1</td>\n",
       "      <td>3.243409</td>\n",
       "      <td>19800.0</td>\n",
       "    </tr>\n",
       "    <tr>\n",
       "      <th>1</th>\n",
       "      <td>6798230807473849350</td>\n",
       "      <td>15800</td>\n",
       "      <td>1</td>\n",
       "      <td>1.019075</td>\n",
       "      <td>15800.0</td>\n",
       "    </tr>\n",
       "    <tr>\n",
       "      <th>2</th>\n",
       "      <td>6911061574435357698</td>\n",
       "      <td>24800</td>\n",
       "      <td>2</td>\n",
       "      <td>-0.185170</td>\n",
       "      <td>12400.0</td>\n",
       "    </tr>\n",
       "    <tr>\n",
       "      <th>3</th>\n",
       "      <td>81028050645106688</td>\n",
       "      <td>487800</td>\n",
       "      <td>67</td>\n",
       "      <td>-0.154826</td>\n",
       "      <td>7280.0</td>\n",
       "    </tr>\n",
       "    <tr>\n",
       "      <th>4</th>\n",
       "      <td>6948829470229300229</td>\n",
       "      <td>415000</td>\n",
       "      <td>63</td>\n",
       "      <td>-0.169266</td>\n",
       "      <td>6587.0</td>\n",
       "    </tr>\n",
       "    <tr>\n",
       "      <th>5</th>\n",
       "      <td>6714593971282641926</td>\n",
       "      <td>5804</td>\n",
       "      <td>1</td>\n",
       "      <td>-0.196628</td>\n",
       "      <td>5804.0</td>\n",
       "    </tr>\n",
       "    <tr>\n",
       "      <th>6</th>\n",
       "      <td>6808092341582267394</td>\n",
       "      <td>722300</td>\n",
       "      <td>153</td>\n",
       "      <td>-0.154103</td>\n",
       "      <td>4720.0</td>\n",
       "    </tr>\n",
       "    <tr>\n",
       "      <th>7</th>\n",
       "      <td>6762674634293019653</td>\n",
       "      <td>166100</td>\n",
       "      <td>36</td>\n",
       "      <td>-0.087358</td>\n",
       "      <td>4613.0</td>\n",
       "    </tr>\n",
       "    <tr>\n",
       "      <th>8</th>\n",
       "      <td>6964313100094866433</td>\n",
       "      <td>387900</td>\n",
       "      <td>90</td>\n",
       "      <td>-0.197101</td>\n",
       "      <td>4310.0</td>\n",
       "    </tr>\n",
       "    <tr>\n",
       "      <th>9</th>\n",
       "      <td>73008986968</td>\n",
       "      <td>63100</td>\n",
       "      <td>15</td>\n",
       "      <td>-0.191794</td>\n",
       "      <td>4206.0</td>\n",
       "    </tr>\n",
       "  </tbody>\n",
       "</table>\n",
       "</div>"
      ],
      "text/plain": [
       "                    id  followers  videos_count  awg_engagement_rate  \\\n",
       "0  6951881032375436293      19800             1             3.243409   \n",
       "1  6798230807473849350      15800             1             1.019075   \n",
       "2  6911061574435357698      24800             2            -0.185170   \n",
       "3    81028050645106688     487800            67            -0.154826   \n",
       "4  6948829470229300229     415000            63            -0.169266   \n",
       "5  6714593971282641926       5804             1            -0.196628   \n",
       "6  6808092341582267394     722300           153            -0.154103   \n",
       "7  6762674634293019653     166100            36            -0.087358   \n",
       "8  6964313100094866433     387900            90            -0.197101   \n",
       "9          73008986968      63100            15            -0.191794   \n",
       "\n",
       "   followers_per_video  \n",
       "0              19800.0  \n",
       "1              15800.0  \n",
       "2              12400.0  \n",
       "3               7280.0  \n",
       "4               6587.0  \n",
       "5               5804.0  \n",
       "6               4720.0  \n",
       "7               4613.0  \n",
       "8               4310.0  \n",
       "9               4206.0  "
      ]
     },
     "metadata": {},
     "output_type": "display_data"
    }
   ],
   "source": [
    "query = \"\"\"\n",
    "SELECT id, followers, videos_count, awg_engagement_rate,\n",
    "       ROUND((followers / NULLIF(videos_count, 0)), 2) AS followers_per_video\n",
    "FROM tiktok_profiles\n",
    "ORDER BY followers_per_video DESC, awg_engagement_rate DESC\n",
    "LIMIT 10;\n",
    "\"\"\"\n",
    "rising_stars = pd.read_sql(query, conn)\n",
    "display(rising_stars)"
   ]
  },
  {
   "cell_type": "markdown",
   "id": "c623e2db",
   "metadata": {
    "papermill": {
     "duration": 0.012401,
     "end_time": "2025-03-02T04:35:42.987932",
     "exception": false,
     "start_time": "2025-03-02T04:35:42.975531",
     "status": "completed"
    },
    "tags": []
   },
   "source": [
    "###  Find the Best Regions for Influencer Marketing"
   ]
  },
  {
   "cell_type": "code",
   "execution_count": 28,
   "id": "d660b71e",
   "metadata": {
    "execution": {
     "iopub.execute_input": "2025-03-02T04:35:43.015654Z",
     "iopub.status.busy": "2025-03-02T04:35:43.015230Z",
     "iopub.status.idle": "2025-03-02T04:35:43.027181Z",
     "shell.execute_reply": "2025-03-02T04:35:43.026151Z"
    },
    "papermill": {
     "duration": 0.028303,
     "end_time": "2025-03-02T04:35:43.029061",
     "exception": false,
     "start_time": "2025-03-02T04:35:43.000758",
     "status": "completed"
    },
    "tags": []
   },
   "outputs": [
    {
     "data": {
      "text/html": [
       "<div>\n",
       "<style scoped>\n",
       "    .dataframe tbody tr th:only-of-type {\n",
       "        vertical-align: middle;\n",
       "    }\n",
       "\n",
       "    .dataframe tbody tr th {\n",
       "        vertical-align: top;\n",
       "    }\n",
       "\n",
       "    .dataframe thead th {\n",
       "        text-align: right;\n",
       "    }\n",
       "</style>\n",
       "<table border=\"1\" class=\"dataframe\">\n",
       "  <thead>\n",
       "    <tr style=\"text-align: right;\">\n",
       "      <th></th>\n",
       "      <th>region</th>\n",
       "      <th>num_influencers</th>\n",
       "      <th>avg_engagement</th>\n",
       "    </tr>\n",
       "  </thead>\n",
       "  <tbody>\n",
       "    <tr>\n",
       "      <th>0</th>\n",
       "      <td>NO</td>\n",
       "      <td>2</td>\n",
       "      <td>1.6148</td>\n",
       "    </tr>\n",
       "    <tr>\n",
       "      <th>1</th>\n",
       "      <td>RO</td>\n",
       "      <td>4</td>\n",
       "      <td>0.9455</td>\n",
       "    </tr>\n",
       "    <tr>\n",
       "      <th>2</th>\n",
       "      <td>CL</td>\n",
       "      <td>3</td>\n",
       "      <td>0.8890</td>\n",
       "    </tr>\n",
       "    <tr>\n",
       "      <th>3</th>\n",
       "      <td>NP</td>\n",
       "      <td>2</td>\n",
       "      <td>0.8393</td>\n",
       "    </tr>\n",
       "    <tr>\n",
       "      <th>4</th>\n",
       "      <td>XK</td>\n",
       "      <td>1</td>\n",
       "      <td>0.7780</td>\n",
       "    </tr>\n",
       "  </tbody>\n",
       "</table>\n",
       "</div>"
      ],
      "text/plain": [
       "  region  num_influencers  avg_engagement\n",
       "0     NO                2          1.6148\n",
       "1     RO                4          0.9455\n",
       "2     CL                3          0.8890\n",
       "3     NP                2          0.8393\n",
       "4     XK                1          0.7780"
      ]
     },
     "metadata": {},
     "output_type": "display_data"
    }
   ],
   "source": [
    "query = \"\"\"\n",
    "SELECT region, \n",
    "       COUNT(id) AS num_influencers, \n",
    "       ROUND(AVG(awg_engagement_rate), 4) AS avg_engagement\n",
    "FROM tiktok_profiles\n",
    "GROUP BY region\n",
    "ORDER BY avg_engagement DESC\n",
    "LIMIT 5;\n",
    "\"\"\"\n",
    "\n",
    "best_regions = pd.read_sql(query, conn)\n",
    "display(best_regions)"
   ]
  },
  {
   "cell_type": "markdown",
   "id": "c37c7bbc",
   "metadata": {
    "papermill": {
     "duration": 0.012512,
     "end_time": "2025-03-02T04:35:43.054557",
     "exception": false,
     "start_time": "2025-03-02T04:35:43.042045",
     "status": "completed"
    },
    "tags": []
   },
   "source": [
    "### Engagement Trends Across Language Groups"
   ]
  },
  {
   "cell_type": "code",
   "execution_count": 29,
   "id": "821e2a00",
   "metadata": {
    "execution": {
     "iopub.execute_input": "2025-03-02T04:35:43.081768Z",
     "iopub.status.busy": "2025-03-02T04:35:43.081388Z",
     "iopub.status.idle": "2025-03-02T04:35:43.093206Z",
     "shell.execute_reply": "2025-03-02T04:35:43.092134Z"
    },
    "papermill": {
     "duration": 0.028044,
     "end_time": "2025-03-02T04:35:43.095366",
     "exception": false,
     "start_time": "2025-03-02T04:35:43.067322",
     "status": "completed"
    },
    "tags": []
   },
   "outputs": [
    {
     "data": {
      "text/html": [
       "<div>\n",
       "<style scoped>\n",
       "    .dataframe tbody tr th:only-of-type {\n",
       "        vertical-align: middle;\n",
       "    }\n",
       "\n",
       "    .dataframe tbody tr th {\n",
       "        vertical-align: top;\n",
       "    }\n",
       "\n",
       "    .dataframe thead th {\n",
       "        text-align: right;\n",
       "    }\n",
       "</style>\n",
       "<table border=\"1\" class=\"dataframe\">\n",
       "  <thead>\n",
       "    <tr style=\"text-align: right;\">\n",
       "      <th></th>\n",
       "      <th>region</th>\n",
       "      <th>num_influencers</th>\n",
       "      <th>avg_engagement</th>\n",
       "    </tr>\n",
       "  </thead>\n",
       "  <tbody>\n",
       "    <tr>\n",
       "      <th>0</th>\n",
       "      <td>NO</td>\n",
       "      <td>2</td>\n",
       "      <td>1.6148</td>\n",
       "    </tr>\n",
       "    <tr>\n",
       "      <th>1</th>\n",
       "      <td>RO</td>\n",
       "      <td>4</td>\n",
       "      <td>0.9455</td>\n",
       "    </tr>\n",
       "    <tr>\n",
       "      <th>2</th>\n",
       "      <td>CL</td>\n",
       "      <td>3</td>\n",
       "      <td>0.8890</td>\n",
       "    </tr>\n",
       "    <tr>\n",
       "      <th>3</th>\n",
       "      <td>NP</td>\n",
       "      <td>2</td>\n",
       "      <td>0.8393</td>\n",
       "    </tr>\n",
       "    <tr>\n",
       "      <th>4</th>\n",
       "      <td>XK</td>\n",
       "      <td>1</td>\n",
       "      <td>0.7780</td>\n",
       "    </tr>\n",
       "  </tbody>\n",
       "</table>\n",
       "</div>"
      ],
      "text/plain": [
       "  region  num_influencers  avg_engagement\n",
       "0     NO                2          1.6148\n",
       "1     RO                4          0.9455\n",
       "2     CL                3          0.8890\n",
       "3     NP                2          0.8393\n",
       "4     XK                1          0.7780"
      ]
     },
     "metadata": {},
     "output_type": "display_data"
    }
   ],
   "source": [
    "query = \"\"\"\n",
    "SELECT predicted_lang, \n",
    "       COUNT(id) AS num_influencers,\n",
    "       ROUND(AVG(awg_engagement_rate), 4) AS avg_engagement\n",
    "FROM tiktok_profiles\n",
    "GROUP BY predicted_lang\n",
    "ORDER BY avg_engagement DESC\n",
    "LIMIT 5;\n",
    "\"\"\"\n",
    "\n",
    "lang_engagemen = pd.read_sql(query, conn)\n",
    "display(best_regions)"
   ]
  },
  {
   "cell_type": "markdown",
   "id": "a9c73cc7",
   "metadata": {
    "papermill": {
     "duration": 0.012547,
     "end_time": "2025-03-02T04:35:43.121016",
     "exception": false,
     "start_time": "2025-03-02T04:35:43.108469",
     "status": "completed"
    },
    "tags": []
   },
   "source": [
    "### A/B Test: Do Verified Influencers Actually Perform Better?"
   ]
  },
  {
   "cell_type": "code",
   "execution_count": 30,
   "id": "2055e844",
   "metadata": {
    "execution": {
     "iopub.execute_input": "2025-03-02T04:35:43.148116Z",
     "iopub.status.busy": "2025-03-02T04:35:43.147752Z",
     "iopub.status.idle": "2025-03-02T04:35:43.288968Z",
     "shell.execute_reply": "2025-03-02T04:35:43.287355Z"
    },
    "papermill": {
     "duration": 0.156952,
     "end_time": "2025-03-02T04:35:43.290849",
     "exception": true,
     "start_time": "2025-03-02T04:35:43.133897",
     "status": "failed"
    },
    "tags": []
   },
   "outputs": [
    {
     "ename": "DatabaseError",
     "evalue": "Execution failed on sql '\nWITH engagement_stats AS (\n    SELECT is_verified, \n           COUNT(id) AS num_influencers,\n           AVG(awg_engagement_rate) AS avg_engagement,\n           STDDEV(awg_engagement_rate) AS std_dev\n    FROM tiktok_profiles\n    GROUP BY is_verified\n)\nSELECT is_verified, num_influencers, avg_engagement, std_dev,\n       ROUND(avg_engagement / NULLIF(std_dev, 0), 4) AS z_score\nFROM engagement_stats;\n': no such function: STDDEV",
     "output_type": "error",
     "traceback": [
      "\u001b[0;31m---------------------------------------------------------------------------\u001b[0m",
      "\u001b[0;31mOperationalError\u001b[0m                          Traceback (most recent call last)",
      "\u001b[0;32m/usr/local/lib/python3.10/dist-packages/pandas/io/sql.py\u001b[0m in \u001b[0;36mexecute\u001b[0;34m(self, sql, params)\u001b[0m\n\u001b[1;32m   2673\u001b[0m         \u001b[0;32mtry\u001b[0m\u001b[0;34m:\u001b[0m\u001b[0;34m\u001b[0m\u001b[0;34m\u001b[0m\u001b[0m\n\u001b[0;32m-> 2674\u001b[0;31m             \u001b[0mcur\u001b[0m\u001b[0;34m.\u001b[0m\u001b[0mexecute\u001b[0m\u001b[0;34m(\u001b[0m\u001b[0msql\u001b[0m\u001b[0;34m,\u001b[0m \u001b[0;34m*\u001b[0m\u001b[0margs\u001b[0m\u001b[0;34m)\u001b[0m\u001b[0;34m\u001b[0m\u001b[0;34m\u001b[0m\u001b[0m\n\u001b[0m\u001b[1;32m   2675\u001b[0m             \u001b[0;32mreturn\u001b[0m \u001b[0mcur\u001b[0m\u001b[0;34m\u001b[0m\u001b[0;34m\u001b[0m\u001b[0m\n",
      "\u001b[0;31mOperationalError\u001b[0m: no such function: STDDEV",
      "\nThe above exception was the direct cause of the following exception:\n",
      "\u001b[0;31mDatabaseError\u001b[0m                             Traceback (most recent call last)",
      "\u001b[0;32m<ipython-input-30-2d6cde2a7918>\u001b[0m in \u001b[0;36m<cell line: 14>\u001b[0;34m()\u001b[0m\n\u001b[1;32m     12\u001b[0m \u001b[0mFROM\u001b[0m \u001b[0mengagement_stats\u001b[0m\u001b[0;34m;\u001b[0m\u001b[0;34m\u001b[0m\u001b[0;34m\u001b[0m\u001b[0m\n\u001b[1;32m     13\u001b[0m \"\"\"\n\u001b[0;32m---> 14\u001b[0;31m \u001b[0mverified_influencer\u001b[0m \u001b[0;34m=\u001b[0m \u001b[0mpd\u001b[0m\u001b[0;34m.\u001b[0m\u001b[0mread_sql\u001b[0m\u001b[0;34m(\u001b[0m\u001b[0mquery\u001b[0m\u001b[0;34m,\u001b[0m \u001b[0mconn\u001b[0m\u001b[0;34m)\u001b[0m\u001b[0;34m\u001b[0m\u001b[0;34m\u001b[0m\u001b[0m\n\u001b[0m\u001b[1;32m     15\u001b[0m \u001b[0mdisplay\u001b[0m\u001b[0;34m(\u001b[0m\u001b[0mverified_influencer\u001b[0m\u001b[0;34m)\u001b[0m\u001b[0;34m\u001b[0m\u001b[0;34m\u001b[0m\u001b[0m\n",
      "\u001b[0;32m/usr/local/lib/python3.10/dist-packages/pandas/io/sql.py\u001b[0m in \u001b[0;36mread_sql\u001b[0;34m(sql, con, index_col, coerce_float, params, parse_dates, columns, chunksize, dtype_backend, dtype)\u001b[0m\n\u001b[1;32m    704\u001b[0m     \u001b[0;32mwith\u001b[0m \u001b[0mpandasSQL_builder\u001b[0m\u001b[0;34m(\u001b[0m\u001b[0mcon\u001b[0m\u001b[0;34m)\u001b[0m \u001b[0;32mas\u001b[0m \u001b[0mpandas_sql\u001b[0m\u001b[0;34m:\u001b[0m\u001b[0;34m\u001b[0m\u001b[0;34m\u001b[0m\u001b[0m\n\u001b[1;32m    705\u001b[0m         \u001b[0;32mif\u001b[0m \u001b[0misinstance\u001b[0m\u001b[0;34m(\u001b[0m\u001b[0mpandas_sql\u001b[0m\u001b[0;34m,\u001b[0m \u001b[0mSQLiteDatabase\u001b[0m\u001b[0;34m)\u001b[0m\u001b[0;34m:\u001b[0m\u001b[0;34m\u001b[0m\u001b[0;34m\u001b[0m\u001b[0m\n\u001b[0;32m--> 706\u001b[0;31m             return pandas_sql.read_query(\n\u001b[0m\u001b[1;32m    707\u001b[0m                 \u001b[0msql\u001b[0m\u001b[0;34m,\u001b[0m\u001b[0;34m\u001b[0m\u001b[0;34m\u001b[0m\u001b[0m\n\u001b[1;32m    708\u001b[0m                 \u001b[0mindex_col\u001b[0m\u001b[0;34m=\u001b[0m\u001b[0mindex_col\u001b[0m\u001b[0;34m,\u001b[0m\u001b[0;34m\u001b[0m\u001b[0;34m\u001b[0m\u001b[0m\n",
      "\u001b[0;32m/usr/local/lib/python3.10/dist-packages/pandas/io/sql.py\u001b[0m in \u001b[0;36mread_query\u001b[0;34m(self, sql, index_col, coerce_float, parse_dates, params, chunksize, dtype, dtype_backend)\u001b[0m\n\u001b[1;32m   2736\u001b[0m         \u001b[0mdtype_backend\u001b[0m\u001b[0;34m:\u001b[0m \u001b[0mDtypeBackend\u001b[0m \u001b[0;34m|\u001b[0m \u001b[0mLiteral\u001b[0m\u001b[0;34m[\u001b[0m\u001b[0;34m\"numpy\"\u001b[0m\u001b[0;34m]\u001b[0m \u001b[0;34m=\u001b[0m \u001b[0;34m\"numpy\"\u001b[0m\u001b[0;34m,\u001b[0m\u001b[0;34m\u001b[0m\u001b[0;34m\u001b[0m\u001b[0m\n\u001b[1;32m   2737\u001b[0m     ) -> DataFrame | Iterator[DataFrame]:\n\u001b[0;32m-> 2738\u001b[0;31m         \u001b[0mcursor\u001b[0m \u001b[0;34m=\u001b[0m \u001b[0mself\u001b[0m\u001b[0;34m.\u001b[0m\u001b[0mexecute\u001b[0m\u001b[0;34m(\u001b[0m\u001b[0msql\u001b[0m\u001b[0;34m,\u001b[0m \u001b[0mparams\u001b[0m\u001b[0;34m)\u001b[0m\u001b[0;34m\u001b[0m\u001b[0;34m\u001b[0m\u001b[0m\n\u001b[0m\u001b[1;32m   2739\u001b[0m         \u001b[0mcolumns\u001b[0m \u001b[0;34m=\u001b[0m \u001b[0;34m[\u001b[0m\u001b[0mcol_desc\u001b[0m\u001b[0;34m[\u001b[0m\u001b[0;36m0\u001b[0m\u001b[0;34m]\u001b[0m \u001b[0;32mfor\u001b[0m \u001b[0mcol_desc\u001b[0m \u001b[0;32min\u001b[0m \u001b[0mcursor\u001b[0m\u001b[0;34m.\u001b[0m\u001b[0mdescription\u001b[0m\u001b[0;34m]\u001b[0m\u001b[0;34m\u001b[0m\u001b[0;34m\u001b[0m\u001b[0m\n\u001b[1;32m   2740\u001b[0m \u001b[0;34m\u001b[0m\u001b[0m\n",
      "\u001b[0;32m/usr/local/lib/python3.10/dist-packages/pandas/io/sql.py\u001b[0m in \u001b[0;36mexecute\u001b[0;34m(self, sql, params)\u001b[0m\n\u001b[1;32m   2684\u001b[0m \u001b[0;34m\u001b[0m\u001b[0m\n\u001b[1;32m   2685\u001b[0m             \u001b[0mex\u001b[0m \u001b[0;34m=\u001b[0m \u001b[0mDatabaseError\u001b[0m\u001b[0;34m(\u001b[0m\u001b[0;34mf\"Execution failed on sql '{sql}': {exc}\"\u001b[0m\u001b[0;34m)\u001b[0m\u001b[0;34m\u001b[0m\u001b[0;34m\u001b[0m\u001b[0m\n\u001b[0;32m-> 2686\u001b[0;31m             \u001b[0;32mraise\u001b[0m \u001b[0mex\u001b[0m \u001b[0;32mfrom\u001b[0m \u001b[0mexc\u001b[0m\u001b[0;34m\u001b[0m\u001b[0;34m\u001b[0m\u001b[0m\n\u001b[0m\u001b[1;32m   2687\u001b[0m \u001b[0;34m\u001b[0m\u001b[0m\n\u001b[1;32m   2688\u001b[0m     \u001b[0;34m@\u001b[0m\u001b[0mstaticmethod\u001b[0m\u001b[0;34m\u001b[0m\u001b[0;34m\u001b[0m\u001b[0m\n",
      "\u001b[0;31mDatabaseError\u001b[0m: Execution failed on sql '\nWITH engagement_stats AS (\n    SELECT is_verified, \n           COUNT(id) AS num_influencers,\n           AVG(awg_engagement_rate) AS avg_engagement,\n           STDDEV(awg_engagement_rate) AS std_dev\n    FROM tiktok_profiles\n    GROUP BY is_verified\n)\nSELECT is_verified, num_influencers, avg_engagement, std_dev,\n       ROUND(avg_engagement / NULLIF(std_dev, 0), 4) AS z_score\nFROM engagement_stats;\n': no such function: STDDEV"
     ]
    }
   ],
   "source": [
    "query = \"\"\"\n",
    "WITH engagement_stats AS (\n",
    "    SELECT is_verified, \n",
    "           COUNT(id) AS num_influencers,\n",
    "           AVG(awg_engagement_rate) AS avg_engagement,\n",
    "           STDDEV(awg_engagement_rate) AS std_dev\n",
    "    FROM tiktok_profiles\n",
    "    GROUP BY is_verified\n",
    ")\n",
    "SELECT is_verified, num_influencers, avg_engagement, std_dev,\n",
    "       ROUND(avg_engagement / NULLIF(std_dev, 0), 4) AS z_score\n",
    "FROM engagement_stats;\n",
    "\"\"\"\n",
    "verified_influencer = pd.read_sql(query, conn)\n",
    "display(verified_influencer)"
   ]
  },
  {
   "cell_type": "markdown",
   "id": "e44bd614",
   "metadata": {
    "papermill": {
     "duration": null,
     "end_time": null,
     "exception": null,
     "start_time": null,
     "status": "pending"
    },
    "tags": []
   },
   "source": []
  },
  {
   "cell_type": "code",
   "execution_count": null,
   "id": "0f0520c4",
   "metadata": {
    "papermill": {
     "duration": null,
     "end_time": null,
     "exception": null,
     "start_time": null,
     "status": "pending"
    },
    "tags": []
   },
   "outputs": [],
   "source": []
  }
 ],
 "metadata": {
  "kaggle": {
   "accelerator": "none",
   "dataSources": [
    {
     "datasetId": 6769324,
     "sourceId": 10892792,
     "sourceType": "datasetVersion"
    }
   ],
   "dockerImageVersionId": 30918,
   "isGpuEnabled": false,
   "isInternetEnabled": true,
   "language": "python",
   "sourceType": "notebook"
  },
  "kernelspec": {
   "display_name": "Python 3",
   "language": "python",
   "name": "python3"
  },
  "language_info": {
   "codemirror_mode": {
    "name": "ipython",
    "version": 3
   },
   "file_extension": ".py",
   "mimetype": "text/x-python",
   "name": "python",
   "nbconvert_exporter": "python",
   "pygments_lexer": "ipython3",
   "version": "3.10.12"
  },
  "papermill": {
   "default_parameters": {},
   "duration": 7.670918,
   "end_time": "2025-03-02T04:35:44.024868",
   "environment_variables": {},
   "exception": true,
   "input_path": "__notebook__.ipynb",
   "output_path": "__notebook__.ipynb",
   "parameters": {},
   "start_time": "2025-03-02T04:35:36.353950",
   "version": "2.6.0"
  }
 },
 "nbformat": 4,
 "nbformat_minor": 5
}
